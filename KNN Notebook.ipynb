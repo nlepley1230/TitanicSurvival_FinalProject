{
 "cells": [
  {
   "cell_type": "markdown",
   "id": "0102eebe",
   "metadata": {},
   "source": [
    "# KNN Notebook"
   ]
  },
  {
   "cell_type": "code",
   "execution_count": null,
   "id": "b8bcf440",
   "metadata": {},
   "outputs": [],
   "source": [
    "import pandas as pd\n",
    "import matplotlib.pyplot as plt\n",
    "from sklearn.neighbors import KNeighborsClassifier\n"
   ]
  },
  {
   "cell_type": "markdown",
   "id": "309bd429",
   "metadata": {},
   "source": [
    "# Read the CSV and Preform Basic Data Cleaning"
   ]
  },
  {
   "cell_type": "code",
   "execution_count": null,
   "id": "d2fe74fe",
   "metadata": {},
   "outputs": [],
   "source": [
    "gender_df = pd.read_csv(\"data/gender_submission.csv\")\n",
    "test_df = pd.read_csv(\"data/test.csv\")\n",
    "train_df = pd.read_csv(\"data/train.csv\")"
   ]
  },
  {
   "cell_type": "code",
   "execution_count": null,
   "id": "ccbadcd1",
   "metadata": {},
   "outputs": [],
   "source": [
    "train_df"
   ]
  },
  {
   "cell_type": "code",
   "execution_count": null,
   "id": "71dd5c88",
   "metadata": {},
   "outputs": [],
   "source": [
    "test_df.head()"
   ]
  },
  {
   "cell_type": "code",
   "execution_count": null,
   "id": "cf71963f",
   "metadata": {},
   "outputs": [],
   "source": [
    "gender_df"
   ]
  },
  {
   "cell_type": "code",
   "execution_count": null,
   "id": "d9147233",
   "metadata": {},
   "outputs": [],
   "source": [
    "##### Use the following fields in the model \n",
    "# Pclass, Sex, age, SibSp, Parch, fare \n",
    "\n",
    "##### Test and training variable sources (csv files)\n",
    "# X_train - train.csv - split the survived into y_train \n",
    "# X_test - test.csv \n",
    "# y_train - target - survived from the train.csv \n",
    "# y_test - gender file "
   ]
  },
  {
   "cell_type": "markdown",
   "id": "81da8860",
   "metadata": {},
   "source": [
    "# Establish the training sets"
   ]
  },
  {
   "cell_type": "code",
   "execution_count": null,
   "id": "5458f744",
   "metadata": {},
   "outputs": [],
   "source": [
    "X_train = train_df[['Pclass', 'Sex', 'Survived','Age', 'SibSp', 'Parch', 'Fare']]"
   ]
  },
  {
   "cell_type": "code",
   "execution_count": null,
   "id": "37874fa4",
   "metadata": {},
   "outputs": [],
   "source": [
    "# Drop null values\n",
    "X_train = X_train.dropna()"
   ]
  },
  {
   "cell_type": "code",
   "execution_count": null,
   "id": "95ab8c93",
   "metadata": {},
   "outputs": [],
   "source": [
    "# Set the target variable\n",
    "y_train = X_train['Survived']"
   ]
  },
  {
   "cell_type": "code",
   "execution_count": null,
   "id": "ed57cebc",
   "metadata": {},
   "outputs": [],
   "source": [
    "y_train = y_train.values.reshape(-1, 1)"
   ]
  },
  {
   "cell_type": "code",
   "execution_count": null,
   "id": "151efb40",
   "metadata": {},
   "outputs": [],
   "source": [
    "y_train.shape"
   ]
  },
  {
   "cell_type": "code",
   "execution_count": null,
   "id": "e4807894",
   "metadata": {},
   "outputs": [],
   "source": [
    "# Drop the target variable from X_train\n",
    "X_train = X_train[['Pclass', 'Sex','Age', 'SibSp', 'Parch', 'Fare']]"
   ]
  },
  {
   "cell_type": "code",
   "execution_count": null,
   "id": "118a4d93",
   "metadata": {},
   "outputs": [],
   "source": [
    "X_train.shape"
   ]
  },
  {
   "cell_type": "markdown",
   "id": "c5e1a063",
   "metadata": {},
   "source": [
    "# Clean data for the test sets"
   ]
  },
  {
   "cell_type": "code",
   "execution_count": null,
   "id": "02c07f83",
   "metadata": {},
   "outputs": [],
   "source": [
    "# merge gender_df and test_df\n",
    "merged_test_df = test_df.merge(gender_df, on='PassengerId')"
   ]
  },
  {
   "cell_type": "code",
   "execution_count": null,
   "id": "4b0100ac",
   "metadata": {},
   "outputs": [],
   "source": [
    "merged_test_df  "
   ]
  },
  {
   "cell_type": "code",
   "execution_count": null,
   "id": "5c92382c",
   "metadata": {},
   "outputs": [],
   "source": [
    "merged_test_df = merged_test_df[['Pclass', 'Sex', 'Survived','Age', 'SibSp', 'Parch', 'Fare']]"
   ]
  },
  {
   "cell_type": "code",
   "execution_count": null,
   "id": "1837df5a",
   "metadata": {},
   "outputs": [],
   "source": [
    "merged_test_df"
   ]
  },
  {
   "cell_type": "code",
   "execution_count": null,
   "id": "dff21df9",
   "metadata": {},
   "outputs": [],
   "source": [
    "# Remove all null values from the testing set\n",
    "merged_test_df = merged_test_df.dropna()"
   ]
  },
  {
   "cell_type": "markdown",
   "id": "faa0a941",
   "metadata": {},
   "source": [
    "# Establish X and y test sets"
   ]
  },
  {
   "cell_type": "code",
   "execution_count": null,
   "id": "6b1cc34c",
   "metadata": {},
   "outputs": [],
   "source": [
    "X_test = merged_test_df[['Pclass', 'Sex', 'Age', 'SibSp', 'Parch', 'Fare']]"
   ]
  },
  {
   "cell_type": "code",
   "execution_count": null,
   "id": "ff26eccb",
   "metadata": {},
   "outputs": [],
   "source": [
    "X_test.shape"
   ]
  },
  {
   "cell_type": "code",
   "execution_count": null,
   "id": "2ef32149",
   "metadata": {},
   "outputs": [],
   "source": [
    "y_test = merged_test_df['Survived']"
   ]
  },
  {
   "cell_type": "code",
   "execution_count": null,
   "id": "256a2068",
   "metadata": {},
   "outputs": [],
   "source": [
    "y_test = y_test.values.reshape(-1,1)"
   ]
  },
  {
   "cell_type": "code",
   "execution_count": null,
   "id": "c65a8631",
   "metadata": {},
   "outputs": [],
   "source": [
    "# y_test = y_test.values.reshape(-1, 1)\n",
    "y_test.shape"
   ]
  },
  {
   "cell_type": "markdown",
   "id": "8246c56e",
   "metadata": {},
   "source": [
    "# Encode the gender data"
   ]
  },
  {
   "cell_type": "code",
   "execution_count": null,
   "id": "16c7cbaf",
   "metadata": {},
   "outputs": [],
   "source": [
    "# Encode the sex column in the test set\n",
    "X_test = X_test.copy()\n",
    "\n",
    "X_test = pd.get_dummies(X_test, columns=[\"Sex\"])\n",
    "X_test.shape"
   ]
  },
  {
   "cell_type": "code",
   "execution_count": null,
   "id": "e8d880dc",
   "metadata": {},
   "outputs": [],
   "source": [
    "X_test.head()"
   ]
  },
  {
   "cell_type": "code",
   "execution_count": null,
   "id": "fa1d6c1f",
   "metadata": {},
   "outputs": [],
   "source": [
    "# Encode the sex column in the train set\n",
    "X_train = X_train.copy()\n",
    "\n",
    "X_train = pd.get_dummies(X_train, columns=[\"Sex\"])\n",
    "X_train.head()"
   ]
  },
  {
   "cell_type": "markdown",
   "id": "0c5892e4",
   "metadata": {},
   "source": [
    "# Scale the data"
   ]
  },
  {
   "cell_type": "code",
   "execution_count": null,
   "id": "8ddaf4aa",
   "metadata": {},
   "outputs": [],
   "source": [
    "from sklearn.preprocessing import StandardScaler\n",
    "X_scaler = StandardScaler().fit(X_train)\n",
    "y_scaler = StandardScaler().fit(y_train)"
   ]
  },
  {
   "cell_type": "code",
   "execution_count": null,
   "id": "c0d2f209",
   "metadata": {},
   "outputs": [],
   "source": [
    "X_train_scaled = X_scaler.transform(X_train)\n",
    "X_test_scaled = X_scaler.transform(X_test)\n",
    "y_train_scaled = y_scaler.transform(y_train)\n",
    "y_test_scaled = y_scaler.transform(y_test)"
   ]
  },
  {
   "cell_type": "markdown",
   "id": "93a85974",
   "metadata": {},
   "source": [
    "# Create, fit and validate the K Nearest Neighbor model"
   ]
  },
  {
   "cell_type": "code",
   "execution_count": null,
   "id": "408fc922",
   "metadata": {},
   "outputs": [],
   "source": [
    "# Loop through different k values to see which has the highest accuracy\n",
    "# Note: We only use odd numbers because we don't want any ties\n",
    "train_scores = []\n",
    "test_scores = []\n",
    "for k in range(1, 20, 2):\n",
    "    knn = KNeighborsClassifier(n_neighbors=k)\n",
    "    knn.fit(X_train_scaled, y_train)\n",
    "    train_score = knn.score(X_train_scaled, y_train)\n",
    "    test_score = knn.score(X_test_scaled, y_test)\n",
    "    train_scores.append(train_score)\n",
    "    test_scores.append(test_score)\n",
    "    print(f\"k: {k}, Train/Test Score: {train_score:.3f}/{test_score:.3f}\")\n",
    "    \n",
    "    \n",
    "plt.plot(range(1, 20, 2), train_scores, marker='o')\n",
    "plt.plot(range(1, 20, 2), test_scores, marker=\"x\")\n",
    "plt.xlabel(\"k neighbors\")\n",
    "plt.ylabel(\"Testing accuracy Score\")\n",
    "plt.show()"
   ]
  },
  {
   "cell_type": "code",
   "execution_count": null,
   "id": "e4ba9b78",
   "metadata": {},
   "outputs": [],
   "source": [
    "# Note that k: 6 seems to be the best choice for this dataset\n",
    "knn = KNeighborsClassifier(n_neighbors=6)\n",
    "knn.fit(X_train_scaled, y_train)\n",
    "print('k=6 Test Acc: %.3f' % knn.score(X_test_scaled, y_test))"
   ]
  },
  {
   "cell_type": "code",
   "execution_count": null,
   "id": "6d27b7e2",
   "metadata": {
    "scrolled": true
   },
   "outputs": [],
   "source": [
    "# Validate the model using the test data\n",
    "print(f'Training Data Score: {knn.score(X_train, y_train)}')\n",
    "print(f'Testing Data Score: {knn.score(X_test, y_test)}')"
   ]
  },
  {
   "cell_type": "markdown",
   "id": "00915710",
   "metadata": {},
   "source": [
    "# Make predictions"
   ]
  },
  {
   "cell_type": "code",
   "execution_count": null,
   "id": "6de5a10c",
   "metadata": {},
   "outputs": [],
   "source": [
    "# Generate a new data point\n",
    "import numpy as np\n",
    "\n",
    "### Prediction person data (Pclass = 1, 2, or 3)\n",
    "Pclass = 1\n",
    "Age = 20 \n",
    "SibSp = 1 \n",
    "Parch = 0\n",
    "Fare = 75\n",
    "Sex_female = 1\n",
    "Sex_male = 0\n",
    "\n",
    "new_person = np.array([[Pclass, Age, SibSp, Parch, Fare, Sex_female, Sex_male]])\n",
    "new_person"
   ]
  },
  {
   "cell_type": "code",
   "execution_count": null,
   "id": "8a4cc344",
   "metadata": {},
   "outputs": [],
   "source": [
    "# Predict whether or not the new person survives\n",
    "predictions = knn.predict(new_person)\n",
    "\n",
    "if predictions == 0:\n",
    "    print(f\"This person would probably perish on the Titanic\")\n",
    "else:\n",
    "    print(f\"This person would probably survive on the Titanic\")"
   ]
  },
  {
   "cell_type": "code",
   "execution_count": null,
   "id": "18d5afed",
   "metadata": {},
   "outputs": [],
   "source": [
    "### Prediction number 2\n",
    "Pclass = 3\n",
    "Age = 45 \n",
    "SibSp = 1 \n",
    "Parch = 2\n",
    "Fare = 20\n",
    "Sex_female = 0\n",
    "Sex_male = 1\n",
    "\n",
    "new_person2 = np.array([[Pclass, Age, SibSp, Parch, Fare, Sex_female, Sex_male]])\n",
    "new_person2"
   ]
  },
  {
   "cell_type": "code",
   "execution_count": null,
   "id": "42a918bd",
   "metadata": {},
   "outputs": [],
   "source": [
    "# Predict whether or not the new person survives\n",
    "predictions_2 = knn.predict(new_person2)\n",
    "if predictions_2 == 0:\n",
    "    print(f\"This person would probably perish on the Titanic\")\n",
    "else:\n",
    "    print(f\"This person would probably survive on the Titanic\")"
   ]
  },
  {
   "cell_type": "code",
   "execution_count": null,
   "id": "8b5be8f1",
   "metadata": {},
   "outputs": [],
   "source": []
  }
 ],
 "metadata": {
  "kernelspec": {
   "display_name": "Python 3",
   "language": "python",
   "name": "python3"
  },
  "language_info": {
   "codemirror_mode": {
    "name": "ipython",
    "version": 3
   },
   "file_extension": ".py",
   "mimetype": "text/x-python",
   "name": "python",
   "nbconvert_exporter": "python",
   "pygments_lexer": "ipython3",
   "version": "3.8.8"
  }
 },
 "nbformat": 4,
 "nbformat_minor": 5
}
