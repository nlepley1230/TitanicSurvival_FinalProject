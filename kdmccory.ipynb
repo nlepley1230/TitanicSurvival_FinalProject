{
 "cells": [
  {
   "cell_type": "markdown",
   "id": "26a43ce0",
   "metadata": {},
   "source": [
    "# Dependencies"
   ]
  },
  {
   "cell_type": "code",
   "execution_count": 1,
   "id": "96bd8678",
   "metadata": {},
   "outputs": [],
   "source": [
    "import warnings\n",
    "warnings.simplefilter('ignore')\n",
    "\n",
    "%matplotlib inline\n",
    "import matplotlib.pyplot as plt\n",
    "import matplotlib\n",
    "matplotlib.rcParams['font.size'] = 8.0\n",
    "import pandas as pd\n",
    "import numpy as np\n",
    "import seaborn as sns\n",
    "\n",
    "from math import log\n",
    "\n",
    "from sklearn import tree\n",
    "from sklearn.model_selection import train_test_split\n",
    "from sklearn.linear_model import LogisticRegression\n",
    "from sklearn.ensemble import RandomForestClassifier\n",
    "# from sklearn.datasets import load_iris"
   ]
  },
  {
   "cell_type": "markdown",
   "id": "c699e972",
   "metadata": {},
   "source": [
    "# Read the CSV and Preform Basic Data Cleaning"
   ]
  },
  {
   "cell_type": "code",
   "execution_count": 2,
   "id": "16ebb5e9",
   "metadata": {},
   "outputs": [],
   "source": [
    "gender_df = pd.read_csv(\"data/gender_submission.csv\")\n",
    "test_df1 = pd.read_csv(\"data/test.csv\")\n",
    "train_df = pd.read_csv(\"data/train.csv\")\n",
    "\n",
    "# Edit datasets\n",
    "test_df2 = pd.read_csv(\"data/test.csv\")\n",
    "train_df2 = pd.read_csv(\"data/train.csv\")"
   ]
  },
  {
   "cell_type": "code",
   "execution_count": 3,
   "id": "d2fcaf1b",
   "metadata": {},
   "outputs": [
    {
     "data": {
      "text/html": [
       "<div>\n",
       "<style scoped>\n",
       "    .dataframe tbody tr th:only-of-type {\n",
       "        vertical-align: middle;\n",
       "    }\n",
       "\n",
       "    .dataframe tbody tr th {\n",
       "        vertical-align: top;\n",
       "    }\n",
       "\n",
       "    .dataframe thead th {\n",
       "        text-align: right;\n",
       "    }\n",
       "</style>\n",
       "<table border=\"1\" class=\"dataframe\">\n",
       "  <thead>\n",
       "    <tr style=\"text-align: right;\">\n",
       "      <th></th>\n",
       "      <th>fields</th>\n",
       "      <th>fields_value_count</th>\n",
       "    </tr>\n",
       "  </thead>\n",
       "  <tbody>\n",
       "    <tr>\n",
       "      <th>0</th>\n",
       "      <td>PassengerId</td>\n",
       "      <td>418</td>\n",
       "    </tr>\n",
       "    <tr>\n",
       "      <th>1</th>\n",
       "      <td>Pclass</td>\n",
       "      <td>418</td>\n",
       "    </tr>\n",
       "    <tr>\n",
       "      <th>2</th>\n",
       "      <td>Name</td>\n",
       "      <td>418</td>\n",
       "    </tr>\n",
       "    <tr>\n",
       "      <th>3</th>\n",
       "      <td>Sex</td>\n",
       "      <td>418</td>\n",
       "    </tr>\n",
       "    <tr>\n",
       "      <th>4</th>\n",
       "      <td>Age</td>\n",
       "      <td>332</td>\n",
       "    </tr>\n",
       "    <tr>\n",
       "      <th>5</th>\n",
       "      <td>SibSp</td>\n",
       "      <td>418</td>\n",
       "    </tr>\n",
       "    <tr>\n",
       "      <th>6</th>\n",
       "      <td>Parch</td>\n",
       "      <td>418</td>\n",
       "    </tr>\n",
       "    <tr>\n",
       "      <th>7</th>\n",
       "      <td>Ticket</td>\n",
       "      <td>418</td>\n",
       "    </tr>\n",
       "    <tr>\n",
       "      <th>8</th>\n",
       "      <td>Fare</td>\n",
       "      <td>417</td>\n",
       "    </tr>\n",
       "    <tr>\n",
       "      <th>9</th>\n",
       "      <td>Cabin</td>\n",
       "      <td>91</td>\n",
       "    </tr>\n",
       "    <tr>\n",
       "      <th>10</th>\n",
       "      <td>Embarked</td>\n",
       "      <td>418</td>\n",
       "    </tr>\n",
       "  </tbody>\n",
       "</table>\n",
       "</div>"
      ],
      "text/plain": [
       "         fields  fields_value_count\n",
       "0   PassengerId                 418\n",
       "1        Pclass                 418\n",
       "2          Name                 418\n",
       "3           Sex                 418\n",
       "4           Age                 332\n",
       "5         SibSp                 418\n",
       "6         Parch                 418\n",
       "7        Ticket                 418\n",
       "8          Fare                 417\n",
       "9         Cabin                  91\n",
       "10     Embarked                 418"
      ]
     },
     "execution_count": 3,
     "metadata": {},
     "output_type": "execute_result"
    }
   ],
   "source": [
    "df1 = test_df1.count()\n",
    "df1 = pd.DataFrame(df1).reset_index().rename(columns={\"index\":\"fields\", 0:\"fields_value_count\"})\n",
    "df1"
   ]
  },
  {
   "cell_type": "code",
   "execution_count": 4,
   "id": "15de26ff",
   "metadata": {},
   "outputs": [
    {
     "data": {
      "image/png": "[encoded data removed]",
      "text/plain": [
       "<Figure size 432x288 with 2 Axes>"
      ]
     },
     "metadata": {
      "needs_background": "light"
     },
     "output_type": "display_data"
    }
   ],
   "source": [
    "sns.heatmap(test_df1.isnull())\n",
    "plt.title(\"Column Statistics of Null Values\")\n",
    "plt.savefig(\"resource/images/na_test_df_heatmap.png\", bbox_inches='tight', pad_inches=0.5)"
   ]
  },
  {
   "cell_type": "code",
   "execution_count": 5,
   "id": "70f2542d",
   "metadata": {},
   "outputs": [
    {
     "data": {
      "image/png": "[encoded data removed]",
      "text/plain": [
       "<Figure size 432x288 with 3 Axes>"
      ]
     },
     "metadata": {
      "needs_background": "light"
     },
     "output_type": "display_data"
    }
   ],
   "source": [
    "# Droping columns\n",
    "test_df3 = test_df1.drop(['Cabin', 'Name'], axis=1)\n",
    "train_df2 = train_df.drop(['Cabin', 'Name'], axis=1)\n",
    "\n",
    "# Because Fare only account for one with Null, we filtering for all row not null. Easy peasy\n",
    "test_df3 = test_df3[test_df3['Fare'].notna()]\n",
    "train_df2 = train_df2[train_df2['Embarked'].notna()]\n",
    "\n",
    "# Replaced null Age value with random number between the youngest and oldest age\n",
    "test_df3['Age'] = test_df3['Age'].apply(lambda x: x if pd.notnull(x) else np.random.randint(test_df3['Age'].min(), test_df3['Age'].max()))\n",
    "train_df2['Age'] = train_df2['Age'].apply(lambda x: x if pd.notnull(x) else np.random.randint(train_df2['Age'].min(), train_df2['Age'].max()))\n",
    "\n",
    "# Save As test_df\n",
    "test_df = test_df3\n",
    "train_df = train_df2\n",
    "\n",
    "sns.heatmap(test_df3.isnull())\n",
    "plt.title(\"Column Statistics Not Null\", )\n",
    "plt.savefig(\"resource/images/not_na_test_df_heatmap.png\", bbox_inches='tight', pad_inches=0.5)\n",
    "\n",
    "sns.heatmap(train_df2.isnull())\n",
    "plt.title(\"Column Statistics Not Null\", )\n",
    "plt.savefig(\"resource/images/not_na_train_df_heatmap.png\", bbox_inches='tight', pad_inches=0.5)"
   ]
  },
  {
   "cell_type": "markdown",
   "id": "c50c0b5a",
   "metadata": {},
   "source": [
    "## New Age Table"
   ]
  },
  {
   "cell_type": "code",
   "execution_count": 6,
   "id": "a45325bd",
   "metadata": {},
   "outputs": [
    {
     "data": {
      "text/html": [
       "<div>\n",
       "<style scoped>\n",
       "    .dataframe tbody tr th:only-of-type {\n",
       "        vertical-align: middle;\n",
       "    }\n",
       "\n",
       "    .dataframe tbody tr th {\n",
       "        vertical-align: top;\n",
       "    }\n",
       "\n",
       "    .dataframe thead th {\n",
       "        text-align: right;\n",
       "    }\n",
       "</style>\n",
       "<table border=\"1\" class=\"dataframe\">\n",
       "  <thead>\n",
       "    <tr style=\"text-align: right;\">\n",
       "      <th></th>\n",
       "      <th>PassengerId</th>\n",
       "      <th>Sex</th>\n",
       "      <th>Age</th>\n",
       "      <th>New Age</th>\n",
       "    </tr>\n",
       "  </thead>\n",
       "  <tbody>\n",
       "    <tr>\n",
       "      <th>10</th>\n",
       "      <td>902</td>\n",
       "      <td>male</td>\n",
       "      <td>NaN</td>\n",
       "      <td>14.0</td>\n",
       "    </tr>\n",
       "    <tr>\n",
       "      <th>22</th>\n",
       "      <td>914</td>\n",
       "      <td>female</td>\n",
       "      <td>NaN</td>\n",
       "      <td>61.0</td>\n",
       "    </tr>\n",
       "    <tr>\n",
       "      <th>29</th>\n",
       "      <td>921</td>\n",
       "      <td>male</td>\n",
       "      <td>NaN</td>\n",
       "      <td>39.0</td>\n",
       "    </tr>\n",
       "    <tr>\n",
       "      <th>33</th>\n",
       "      <td>925</td>\n",
       "      <td>female</td>\n",
       "      <td>NaN</td>\n",
       "      <td>22.0</td>\n",
       "    </tr>\n",
       "    <tr>\n",
       "      <th>36</th>\n",
       "      <td>928</td>\n",
       "      <td>female</td>\n",
       "      <td>NaN</td>\n",
       "      <td>8.0</td>\n",
       "    </tr>\n",
       "    <tr>\n",
       "      <th>...</th>\n",
       "      <td>...</td>\n",
       "      <td>...</td>\n",
       "      <td>...</td>\n",
       "      <td>...</td>\n",
       "    </tr>\n",
       "    <tr>\n",
       "      <th>408</th>\n",
       "      <td>1300</td>\n",
       "      <td>female</td>\n",
       "      <td>NaN</td>\n",
       "      <td>57.0</td>\n",
       "    </tr>\n",
       "    <tr>\n",
       "      <th>410</th>\n",
       "      <td>1302</td>\n",
       "      <td>female</td>\n",
       "      <td>NaN</td>\n",
       "      <td>42.0</td>\n",
       "    </tr>\n",
       "    <tr>\n",
       "      <th>413</th>\n",
       "      <td>1305</td>\n",
       "      <td>male</td>\n",
       "      <td>NaN</td>\n",
       "      <td>23.0</td>\n",
       "    </tr>\n",
       "    <tr>\n",
       "      <th>416</th>\n",
       "      <td>1308</td>\n",
       "      <td>male</td>\n",
       "      <td>NaN</td>\n",
       "      <td>37.0</td>\n",
       "    </tr>\n",
       "    <tr>\n",
       "      <th>417</th>\n",
       "      <td>1309</td>\n",
       "      <td>male</td>\n",
       "      <td>NaN</td>\n",
       "      <td>28.0</td>\n",
       "    </tr>\n",
       "  </tbody>\n",
       "</table>\n",
       "<p>86 rows × 4 columns</p>\n",
       "</div>"
      ],
      "text/plain": [
       "     PassengerId     Sex  Age  New Age\n",
       "10           902    male  NaN     14.0\n",
       "22           914  female  NaN     61.0\n",
       "29           921    male  NaN     39.0\n",
       "33           925  female  NaN     22.0\n",
       "36           928  female  NaN      8.0\n",
       "..           ...     ...  ...      ...\n",
       "408         1300  female  NaN     57.0\n",
       "410         1302  female  NaN     42.0\n",
       "413         1305    male  NaN     23.0\n",
       "416         1308    male  NaN     37.0\n",
       "417         1309    male  NaN     28.0\n",
       "\n",
       "[86 rows x 4 columns]"
      ]
     },
     "execution_count": 6,
     "metadata": {},
     "output_type": "execute_result"
    }
   ],
   "source": [
    "test_df2 = test_df2.loc[test_df2['Age'].isnull()]\n",
    "test_df2['New Age'] = test_df3['Age'].copy()\n",
    "new_age = test_df2[['PassengerId', 'Sex', 'Age', 'New Age']]\n",
    "new_age"
   ]
  },
  {
   "cell_type": "markdown",
   "id": "02c4a6a1",
   "metadata": {},
   "source": [
    "# Logistic Regression"
   ]
  },
  {
   "cell_type": "markdown",
   "id": "79d2b976",
   "metadata": {},
   "source": [
    "Preparing features columns and output of x and y"
   ]
  },
  {
   "cell_type": "code",
   "execution_count": 7,
   "id": "bfc1e00e",
   "metadata": {},
   "outputs": [
    {
     "name": "stdout",
     "output_type": "stream",
     "text": [
      "(889, 690) (889,)\n",
      "     PassengerId  Pclass   Age  SibSp  Parch  Sex_female  Sex_male  \\\n",
      "0              1       3  22.0      1      0           0         1   \n",
      "1              2       1  38.0      1      0           1         0   \n",
      "2              3       3  26.0      0      0           1         0   \n",
      "3              4       1  35.0      1      0           1         0   \n",
      "4              5       3  35.0      0      0           0         1   \n",
      "..           ...     ...   ...    ...    ...         ...       ...   \n",
      "886          887       2  27.0      0      0           0         1   \n",
      "887          888       1  19.0      0      0           1         0   \n",
      "888          889       3  72.0      1      2           1         0   \n",
      "889          890       1  26.0      0      0           0         1   \n",
      "890          891       3  32.0      0      0           0         1   \n",
      "\n",
      "     Ticket_110152  Ticket_110413  Ticket_110465  ...  Ticket_W./C. 14263  \\\n",
      "0                0              0              0  ...                   0   \n",
      "1                0              0              0  ...                   0   \n",
      "2                0              0              0  ...                   0   \n",
      "3                0              0              0  ...                   0   \n",
      "4                0              0              0  ...                   0   \n",
      "..             ...            ...            ...  ...                 ...   \n",
      "886              0              0              0  ...                   0   \n",
      "887              0              0              0  ...                   0   \n",
      "888              0              0              0  ...                   0   \n",
      "889              0              0              0  ...                   0   \n",
      "890              0              0              0  ...                   0   \n",
      "\n",
      "     Ticket_W./C. 6607  Ticket_W./C. 6608  Ticket_W./C. 6609  \\\n",
      "0                    0                  0                  0   \n",
      "1                    0                  0                  0   \n",
      "2                    0                  0                  0   \n",
      "3                    0                  0                  0   \n",
      "4                    0                  0                  0   \n",
      "..                 ...                ...                ...   \n",
      "886                  0                  0                  0   \n",
      "887                  0                  0                  0   \n",
      "888                  1                  0                  0   \n",
      "889                  0                  0                  0   \n",
      "890                  0                  0                  0   \n",
      "\n",
      "     Ticket_W.E.P. 5734  Ticket_W/C 14208  Ticket_WE/P 5735  Embarked_C  \\\n",
      "0                     0                 0                 0           0   \n",
      "1                     0                 0                 0           1   \n",
      "2                     0                 0                 0           0   \n",
      "3                     0                 0                 0           0   \n",
      "4                     0                 0                 0           0   \n",
      "..                  ...               ...               ...         ...   \n",
      "886                   0                 0                 0           0   \n",
      "887                   0                 0                 0           0   \n",
      "888                   0                 0                 0           0   \n",
      "889                   0                 0                 0           1   \n",
      "890                   0                 0                 0           0   \n",
      "\n",
      "     Embarked_Q  Embarked_S  \n",
      "0             0           1  \n",
      "1             0           0  \n",
      "2             0           1  \n",
      "3             0           1  \n",
      "4             0           1  \n",
      "..          ...         ...  \n",
      "886           0           1  \n",
      "887           0           1  \n",
      "888           0           1  \n",
      "889           0           0  \n",
      "890           1           0  \n",
      "\n",
      "[889 rows x 690 columns]\n",
      "0      0\n",
      "1      1\n",
      "2      1\n",
      "3      1\n",
      "4      0\n",
      "      ..\n",
      "886    0\n",
      "887    1\n",
      "888    0\n",
      "889    1\n",
      "890    0\n",
      "Name: Survived, Length: 889, dtype: int64\n"
     ]
    }
   ],
   "source": [
    "x = pd.get_dummies(train_df[['PassengerId', 'Pclass', 'Sex', 'Age', 'SibSp', 'Parch', 'Ticket', 'Embarked']])\n",
    "y = train_df['Survived']\n",
    "print(x.shape, y.shape)\n",
    "print(x)\n",
    "print(y)"
   ]
  },
  {
   "cell_type": "markdown",
   "id": "f3c8da61",
   "metadata": {},
   "source": [
    "# Fitting x and y using sklearn"
   ]
  },
  {
   "cell_type": "code",
   "execution_count": 8,
   "id": "b4061108",
   "metadata": {},
   "outputs": [],
   "source": [
    "x_train, x_test, y_train, y_test = train_test_split(x,y, random_state=42)"
   ]
  },
  {
   "cell_type": "markdown",
   "id": "1c30c8a6",
   "metadata": {},
   "source": [
    "Creating test dataset to run the machince learning model on"
   ]
  },
  {
   "cell_type": "code",
   "execution_count": null,
   "id": "d3774544",
   "metadata": {},
   "outputs": [],
   "source": [
    "x_test_sur = pd.get_dummies(test_df[['PassengerId', 'Pclass', 'Sex', 'Age', 'SibSp', 'Parch', 'Ticket', 'Embarked']])\n",
    "# y_test_sur = test_df['Survived']"
   ]
  },
  {
   "cell_type": "markdown",
   "id": "91344f09",
   "metadata": {},
   "source": [
    "# Classifying data for Logistic Regression"
   ]
  },
  {
   "cell_type": "code",
   "execution_count": 9,
   "id": "c84adcb1",
   "metadata": {},
   "outputs": [
    {
     "data": {
      "text/plain": [
       "LogisticRegression()"
      ]
     },
     "execution_count": 9,
     "metadata": {},
     "output_type": "execute_result"
    }
   ],
   "source": [
    "classifier = LogisticRegression()\n",
    "classifier.fit(x_train, y_train)"
   ]
  },
  {
   "cell_type": "markdown",
   "id": "6d3b1e32",
   "metadata": {},
   "source": [
    "# Scoring Classifiers"
   ]
  },
  {
   "cell_type": "code",
   "execution_count": 10,
   "id": "6f9dd974",
   "metadata": {},
   "outputs": [
    {
     "name": "stdout",
     "output_type": "stream",
     "text": [
      "Training Data Score: 0.7927927927927928\n",
      "Testing Data Score: 0.7847533632286996\n"
     ]
    }
   ],
   "source": [
    "print(f\"Training Data Score: {classifier.score(x_train, y_train)}\")\n",
    "print(f\"Testing Data Score: {classifier.score(x_test, y_test)}\")"
   ]
  },
  {
   "cell_type": "markdown",
   "id": "3fb58475",
   "metadata": {},
   "source": [
    "# Can't do Logistic Regression because test dataset is missing the Survived colums"
   ]
  },
  {
   "cell_type": "markdown",
   "id": "8fd3b5b0",
   "metadata": {},
   "source": [
    "# Decision Tree"
   ]
  },
  {
   "cell_type": "code",
   "execution_count": 12,
   "id": "26a9776c",
   "metadata": {},
   "outputs": [
    {
     "data": {
      "text/plain": [
       "0.8340807174887892"
      ]
     },
     "execution_count": 12,
     "metadata": {},
     "output_type": "execute_result"
    }
   ],
   "source": [
    "x = pd.get_dummies(train_df[['PassengerId', 'Pclass', 'Sex', 'Age', 'SibSp', 'Parch', 'Ticket', 'Embarked']])\n",
    "y = train_df['Survived'].values.reshape(-1,1)\n",
    "# print(x.shape, y.shape)\n",
    "# print(x)\n",
    "# print(y)\n",
    "\n",
    "x_train, x_test, y_train, y_test = train_test_split(x,y, random_state=42)\n",
    "\n",
    "clf = tree.DecisionTreeClassifier()\n",
    "clf = clf.fit(x_train, y_train)\n",
    "clf.score(x_test, y_test)"
   ]
  },
  {
   "cell_type": "code",
   "execution_count": null,
   "id": "bfc25c71",
   "metadata": {},
   "outputs": [],
   "source": []
  }
 ],
 "metadata": {
  "kernelspec": {
   "display_name": "Python 3",
   "language": "python",
   "name": "python3"
  },
  "language_info": {
   "codemirror_mode": {
    "name": "ipython",
    "version": 3
   },
   "file_extension": ".py",
   "mimetype": "text/x-python",
   "name": "python",
   "nbconvert_exporter": "python",
   "pygments_lexer": "ipython3",
   "version": "3.8.8"
  }
 },
 "nbformat": 4,
 "nbformat_minor": 5
}
