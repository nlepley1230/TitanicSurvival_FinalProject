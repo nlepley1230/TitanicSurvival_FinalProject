{
 "cells": [
  {
   "cell_type": "code",
   "execution_count": null,
   "id": "f722077c",
   "metadata": {},
   "outputs": [],
   "source": [
    "import pandas as pd\n",
    "import numpy as np\n",
    "import matplotlib.pyplot as plt\n",
    "import seaborn as sns"
   ]
  },
  {
   "cell_type": "code",
   "execution_count": null,
   "id": "013190a6",
   "metadata": {},
   "outputs": [],
   "source": [
    "gender_df = pd.read_csv(\"data/gender_submission.csv\")\n",
    "test_df = pd.read_csv(\"data/test.csv\")\n",
    "train_df = pd.read_csv(\"data/train.csv\")"
   ]
  },
  {
   "cell_type": "code",
   "execution_count": null,
   "id": "1b16e464",
   "metadata": {},
   "outputs": [],
   "source": [
    "test_merged_df = test_df.merge(gender_df, on='PassengerId')\n",
    "test_merged_df"
   ]
  },
  {
   "cell_type": "code",
   "execution_count": null,
   "id": "a2a3dbff",
   "metadata": {},
   "outputs": [],
   "source": [
    "test_merged_df = test_merged_df [[\"PassengerId\", \"Survived\", \"Pclass\" ,\"Name\", \"Sex\", \"Age\", \"SibSp\", \"Parch\", \"Ticket\", \"Fare\", \"Cabin\", \"Embarked\"]]\n",
    "test_merged_df.head()"
   ]
  },
  {
   "cell_type": "code",
   "execution_count": null,
   "id": "f68bde3b",
   "metadata": {},
   "outputs": [],
   "source": [
    "train_df.head()"
   ]
  },
  {
   "cell_type": "code",
   "execution_count": null,
   "id": "0d3c178a",
   "metadata": {},
   "outputs": [],
   "source": [
    "all_data_df = pd.concat([train_df, test_merged_df], ignore_index = True, sort = False)\n",
    "all_data_df"
   ]
  },
  {
   "cell_type": "code",
   "execution_count": null,
   "id": "e383810a",
   "metadata": {},
   "outputs": [],
   "source": [
    "# Passenger Class Survival Graphs"
   ]
  },
  {
   "cell_type": "code",
   "execution_count": null,
   "id": "d0d9d85d",
   "metadata": {},
   "outputs": [],
   "source": [
    "all_data_df[[\"Pclass\", \"Survived\"]].groupby([\"Pclass\"], as_index=False).mean().sort_values(by=\"Survived\", ascending=False)"
   ]
  },
  {
   "cell_type": "code",
<<<<<<< HEAD
   "execution_count": 9,
   "id": "e69f3879",
   "metadata": {},
   "outputs": [
    {
     "data": {
      "text/plain": [
       "<AxesSubplot:xlabel='Survived', ylabel='Pclass'>"
      ]
     },
     "execution_count": 9,
     "metadata": {},
     "output_type": "execute_result"
    },
    {
     "data": {
      "image/png": "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\n",
      "text/plain": [
       "<Figure size 432x288 with 2 Axes>"
      ]
     },
     "metadata": {
      "needs_background": "light"
     },
     "output_type": "display_data"
    }
   ],
=======
   "execution_count": null,
   "id": "e69f3879",
   "metadata": {},
   "outputs": [],
>>>>>>> 78d97e40031601ca66f844545d9cadf3b110d56a
   "source": [
    "# Group the dataset by Pclass and Survived and then unstack them\n",
    "group = all_data_df.groupby(['Pclass', 'Survived'])\n",
    "pclass_survived = group.size().unstack()\n",
    " \n",
    "# Heatmap - Color encoded 2D representation of data.\n",
    "sns.heatmap(pclass_survived, annot = True, fmt =\"d\")\n",
    "plt.savefig(\"resource/images/Pclass_Survived_Heat.jpg\")"
   ]
  },
  {
   "cell_type": "code",
   "execution_count": 10,
   "id": "f873163e",
   "metadata": {},
   "outputs": [],
   "source": [
    "#Class 1 passengers have a higher survival chance compared to classes 2 and 3.\n",
    "#It implies that Pclass contributes a lot to a passenger’s survival rate."
   ]
  },
  {
   "cell_type": "code",
<<<<<<< HEAD
   "execution_count": 11,
=======
   "execution_count": null,
>>>>>>> 78d97e40031601ca66f844545d9cadf3b110d56a
   "id": "75aeefb0",
   "metadata": {},
   "outputs": [],
   "source": [
    "sns.countplot(x='Pclass', data=all_data_df, palette='hls', hue='Survived')\n",
    "plt.xticks(rotation=45)\n",
    "plt.show()\n",
    "plt.savefig(\"resource/images/Pclass_Survived_Bar.jpg\")"
   ]
  },
  {
   "cell_type": "code",
<<<<<<< HEAD
   "execution_count": 12,
=======
   "execution_count": null,
>>>>>>> 78d97e40031601ca66f844545d9cadf3b110d56a
   "id": "85e307af",
   "metadata": {},
   "outputs": [],
   "source": [
    "# Sex Survival Graphs"
   ]
  },
  {
   "cell_type": "code",
<<<<<<< HEAD
   "execution_count": 13,
=======
   "execution_count": null,
>>>>>>> 78d97e40031601ca66f844545d9cadf3b110d56a
   "id": "1a87011a",
   "metadata": {},
   "outputs": [],
   "source": [
    "sns.countplot(x='Sex', data=all_data_df, palette='hls', hue='Survived')\n",
    "plt.xticks(rotation=45)\n",
    "plt.show()\n",
    "plt.savefig(\"resource/images/Sex_Survived_Bar.jpg\")"
   ]
  },
  {
   "cell_type": "code",
   "execution_count": 14,
   "id": "4b13ac57",
   "metadata": {},
   "outputs": [],
   "source": [
    "#Male survival rate is about 20% where women is around 75%"
   ]
  },
  {
   "cell_type": "code",
   "execution_count": 15,
   "id": "9b1b847a",
   "metadata": {},
   "outputs": [],
   "source": [
    "# Age Survival Graphs"
   ]
  },
  {
   "cell_type": "code",
<<<<<<< HEAD
   "execution_count": 16,
   "id": "8e419ef7",
   "metadata": {},
   "outputs": [
    {
     "data": {
      "text/plain": [
       "Text(0.5, 1.0, 'Histogram of people who survived by age groups')"
      ]
     },
     "execution_count": 16,
     "metadata": {},
     "output_type": "execute_result"
    },
    {
     "data": {
      "image/png": "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\n",
      "text/plain": [
       "<Figure size 432x288 with 1 Axes>"
      ]
     },
     "metadata": {
      "needs_background": "light"
     },
     "output_type": "display_data"
    }
   ],
=======
   "execution_count": null,
   "id": "8e419ef7",
   "metadata": {},
   "outputs": [],
>>>>>>> 78d97e40031601ca66f844545d9cadf3b110d56a
   "source": [
    "plt.figure(3)\n",
    "age = all_data_df.loc[all_data_df.Survived == 1, \"Age\"]\n",
    "plt.hist(age, np.arange(0,100,10))\n",
    "plt.xticks(np.arange(0,100,10))\n",
    "plt.title(\"Histogram of people who survived by age groups\")\n",
    "plt.savefig(\"resource/images/Age_Survived_Hist.jpg\")"
   ]
  },
  {
   "cell_type": "code",
<<<<<<< HEAD
   "execution_count": 17,
   "id": "9c617b88",
   "metadata": {},
   "outputs": [
    {
     "data": {
      "text/plain": [
       "Text(0.5, 1.0, \"Histogram of people who didn't survived by age groups\")"
      ]
     },
     "execution_count": 17,
     "metadata": {},
     "output_type": "execute_result"
    },
    {
     "data": {
      "image/png": "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\n",
      "text/plain": [
       "<Figure size 432x288 with 1 Axes>"
      ]
     },
     "metadata": {
      "needs_background": "light"
     },
     "output_type": "display_data"
    }
   ],
=======
   "execution_count": null,
   "id": "9c617b88",
   "metadata": {},
   "outputs": [],
>>>>>>> 78d97e40031601ca66f844545d9cadf3b110d56a
   "source": [
    "plt.figure(4)\n",
    "age = all_data_df.loc[all_data_df.Survived == 0, \"Age\"]\n",
    "plt.hist(age, np.arange(0,100,10))\n",
    "plt.xticks(np.arange(0,100,10))\n",
    "plt.title(\"Histogram of people who didn't survived by age groups\")\n",
    "plt.savefig(\"resource/images/Age_NotSurvived_Hist.jpg\")"
   ]
  },
  {
   "cell_type": "code",
<<<<<<< HEAD
   "execution_count": 18,
=======
   "execution_count": null,
>>>>>>> 78d97e40031601ca66f844545d9cadf3b110d56a
   "id": "9e5895f2",
   "metadata": {},
   "outputs": [],
   "source": [
    "# Embarked Survival Graph"
   ]
  },
  {
   "cell_type": "code",
<<<<<<< HEAD
   "execution_count": 19,
   "id": "c3368ec2",
   "metadata": {},
   "outputs": [
    {
     "data": {
      "text/html": [
       "<div>\n",
       "<style scoped>\n",
       "    .dataframe tbody tr th:only-of-type {\n",
       "        vertical-align: middle;\n",
       "    }\n",
       "\n",
       "    .dataframe tbody tr th {\n",
       "        vertical-align: top;\n",
       "    }\n",
       "\n",
       "    .dataframe thead th {\n",
       "        text-align: right;\n",
       "    }\n",
       "</style>\n",
       "<table border=\"1\" class=\"dataframe\">\n",
       "  <thead>\n",
       "    <tr style=\"text-align: right;\">\n",
       "      <th></th>\n",
       "      <th>Embarked</th>\n",
       "      <th>Survived</th>\n",
       "    </tr>\n",
       "  </thead>\n",
       "  <tbody>\n",
       "    <tr>\n",
       "      <th>0</th>\n",
       "      <td>C</td>\n",
       "      <td>0.492593</td>\n",
       "    </tr>\n",
       "    <tr>\n",
       "      <th>1</th>\n",
       "      <td>Q</td>\n",
       "      <td>0.439024</td>\n",
       "    </tr>\n",
       "    <tr>\n",
       "      <th>2</th>\n",
       "      <td>S</td>\n",
       "      <td>0.333698</td>\n",
       "    </tr>\n",
       "  </tbody>\n",
       "</table>\n",
       "</div>"
      ],
      "text/plain": [
       "  Embarked  Survived\n",
       "0        C  0.492593\n",
       "1        Q  0.439024\n",
       "2        S  0.333698"
      ]
     },
     "execution_count": 19,
     "metadata": {},
     "output_type": "execute_result"
    }
   ],
=======
   "execution_count": null,
   "id": "c3368ec2",
   "metadata": {},
   "outputs": [],
>>>>>>> 78d97e40031601ca66f844545d9cadf3b110d56a
   "source": [
    "all_data_df[[\"Embarked\", \"Survived\"]].groupby([\"Embarked\"], as_index=False).mean().sort_values(by=\"Survived\", ascending=False)"
   ]
  },
  {
   "cell_type": "code",
<<<<<<< HEAD
   "execution_count": 20,
=======
   "execution_count": null,
>>>>>>> 78d97e40031601ca66f844545d9cadf3b110d56a
   "id": "8539c2a6",
   "metadata": {},
   "outputs": [],
   "source": [
    "pie = plt.figure(5)\n",
    "ax = pie.add_axes([0,0,1,1])\n",
    "ax.axis(\"equal\")\n",
    "l=[\"C = Cherbourg\", \"Q = Queenstown\", \"S = Southampton\"]\n",
    "s=[0.492593, 0.439024, 0.333698]\n",
    "ax.pie(s, labels = l, autopct=\"%1.2f%%\")\n",
<<<<<<< HEAD
    "plt.show()\n"
=======
    "plt.show()\n",
    "plt.savefig(\"resource/images/Embarked_Survived_Pie.jpg\")"
>>>>>>> 78d97e40031601ca66f844545d9cadf3b110d56a
   ]
  },
  {
   "cell_type": "code",
<<<<<<< HEAD
   "execution_count": 21,
=======
   "execution_count": null,
>>>>>>> 78d97e40031601ca66f844545d9cadf3b110d56a
   "id": "524bc430",
   "metadata": {},
   "outputs": [],
   "source": [
    "sns.countplot(x='Embarked', data=all_data_df, palette='hls', hue='Survived')\n",
    "plt.xticks(rotation=45)\n",
<<<<<<< HEAD
    "plt.show()\n"
=======
    "plt.show()\n",
    "plt.savefig(\"resource/images/Embarked_Survived_Bar.jpg\")"
>>>>>>> 78d97e40031601ca66f844545d9cadf3b110d56a
   ]
  },
  {
   "cell_type": "code",
   "execution_count": 22,
   "id": "6dac10ba",
   "metadata": {},
   "outputs": [],
   "source": [
    "#Majority of the passengers boarded from S. So, the missing values can be filled with S.\n",
    "#Majority of class 3 passengers boarded from Q.\n",
    "#S looks lucky for class 1 and 2 passengers compared to class 3."
   ]
  }
 ],
 "metadata": {
  "kernelspec": {
   "display_name": "Python 3",
   "language": "python",
   "name": "python3"
  },
  "language_info": {
   "codemirror_mode": {
    "name": "ipython",
    "version": 3
   },
   "file_extension": ".py",
   "mimetype": "text/x-python",
   "name": "python",
   "nbconvert_exporter": "python",
   "pygments_lexer": "ipython3",
   "version": "3.8.8"
  }
 },
 "nbformat": 4,
 "nbformat_minor": 5
}
