{
 "cells": [
  {
   "cell_type": "code",
   "execution_count": null,
   "id": "f722077c",
   "metadata": {},
   "outputs": [],
   "source": [
    "import pandas as pd\n",
    "import numpy as np\n",
    "import matplotlib.pyplot as plt\n",
    "import seaborn as sns"
   ]
  },
  {
   "cell_type": "code",
   "execution_count": null,
   "id": "013190a6",
   "metadata": {},
   "outputs": [],
   "source": [
    "gender_df = pd.read_csv(\"data/gender_submission.csv\")\n",
    "test_df = pd.read_csv(\"data/test.csv\")\n",
    "train_df = pd.read_csv(\"data/train.csv\")"
   ]
  },
  {
   "cell_type": "code",
   "execution_count": null,
   "id": "1b16e464",
   "metadata": {},
   "outputs": [],
   "source": [
    "test_merged_df = test_df.merge(gender_df, on='PassengerId')\n",
    "test_merged_df"
   ]
  },
  {
   "cell_type": "code",
   "execution_count": null,
   "id": "a2a3dbff",
   "metadata": {},
   "outputs": [],
   "source": [
    "test_merged_df = test_merged_df [[\"PassengerId\", \"Survived\", \"Pclass\" ,\"Name\", \"Sex\", \"Age\", \"SibSp\", \"Parch\", \"Ticket\", \"Fare\", \"Cabin\", \"Embarked\"]]\n",
    "test_merged_df.head()"
   ]
  },
  {
   "cell_type": "code",
   "execution_count": null,
   "id": "f68bde3b",
   "metadata": {},
   "outputs": [],
   "source": [
    "train_df.head()"
   ]
  },
  {
   "cell_type": "code",
   "execution_count": null,
   "id": "0d3c178a",
   "metadata": {},
   "outputs": [],
   "source": [
    "all_data_df = pd.concat([train_df, test_merged_df], ignore_index = True, sort = False)\n",
    "all_data_df"
   ]
  },
  {
   "cell_type": "code",
   "execution_count": null,
   "id": "e383810a",
   "metadata": {},
   "outputs": [],
   "source": [
    "# Passenger Class Survival Graphs"
   ]
  },
  {
   "cell_type": "code",
   "execution_count": null,
   "id": "d0d9d85d",
   "metadata": {},
   "outputs": [],
   "source": [
    "all_data_df[[\"Pclass\", \"Survived\"]].groupby([\"Pclass\"], as_index=False).mean().sort_values(by=\"Survived\", ascending=False)"
   ]
  },
  {
   "cell_type": "code",
   "execution_count": null,
   "id": "e69f3879",
   "metadata": {},
   "outputs": [],
   "source": [
    "# Group the dataset by Pclass and Survived and then unstack them\n",
    "group = all_data_df.groupby(['Pclass', 'Survived'])\n",
    "pclass_survived = group.size().unstack()\n",
    " \n",
    "# Heatmap - Color encoded 2D representation of data.\n",
    "sns.heatmap(pclass_survived, annot = True, fmt =\"d\")\n",
    "plt.savefig(\"resource/images/Pclass_Survived_Heat.jpg\")"
   ]
  },
  {
   "cell_type": "code",
   "execution_count": null,
   "id": "f873163e",
   "metadata": {},
   "outputs": [],
   "source": [
    "#Class 1 passengers have a higher survival chance compared to classes 2 and 3.\n",
    "#It implies that Pclass contributes a lot to a passenger’s survival rate."
   ]
  },
  {
   "cell_type": "code",
   "execution_count": null,
   "id": "75aeefb0",
   "metadata": {},
   "outputs": [],
   "source": [
    "sns.countplot(x='Pclass', data=all_data_df, palette='hls', hue='Survived')\n",
    "plt.xticks(rotation=45)\n",
    "\n",
    "plt.savefig(\"resource/images/Pclass_Survived_Bar.jpg\")"
   ]
  },
  {
   "cell_type": "code",
   "execution_count": null,
   "id": "85e307af",
   "metadata": {},
   "outputs": [],
   "source": [
    "# Sex Survival Graphs"
   ]
  },
  {
   "cell_type": "code",
   "execution_count": null,
   "id": "1a87011a",
   "metadata": {},
   "outputs": [],
   "source": [
    "sns.countplot(x='Sex', data=all_data_df, palette='hls', hue='Survived')\n",
    "plt.xticks(rotation=45)\n",
    "\n",
    "plt.savefig(\"resource/images/Sex_Survived_Bar.jpg\")"
   ]
  },
  {
   "cell_type": "code",
   "execution_count": null,
   "id": "4b13ac57",
   "metadata": {},
   "outputs": [],
   "source": [
    "#Male survival rate is about 20% where women is around 75%"
   ]
  },
  {
   "cell_type": "code",
   "execution_count": null,
   "id": "9b1b847a",
   "metadata": {},
   "outputs": [],
   "source": [
    "# Age Survival Graphs"
   ]
  },
  {
   "cell_type": "code",
   "execution_count": null,
   "id": "8e419ef7",
   "metadata": {},
   "outputs": [],
   "source": [
    "plt.figure(3)\n",
    "age = all_data_df.loc[all_data_df.Survived == 1, \"Age\"]\n",
    "plt.hist(age, np.arange(0,100,10))\n",
    "plt.xticks(np.arange(0,100,10))\n",
    "plt.title(\"Histogram of people who survived by age groups\")\n",
    "plt.savefig(\"resource/images/Age_Survived_Hist.jpg\")"
   ]
  },
  {
   "cell_type": "code",
   "execution_count": null,
   "id": "9c617b88",
   "metadata": {},
   "outputs": [],
   "source": [
    "plt.figure(4)\n",
    "age = all_data_df.loc[all_data_df.Survived == 0, \"Age\"]\n",
    "plt.hist(age, np.arange(0,100,10))\n",
    "plt.xticks(np.arange(0,100,10))\n",
    "plt.title(\"Histogram of people who didn't survived by age groups\")\n",
    "plt.savefig(\"resource/images/Age_NotSurvived_Hist.jpg\")"
   ]
  },
  {
   "cell_type": "code",
   "execution_count": null,
   "id": "9e5895f2",
   "metadata": {},
   "outputs": [],
   "source": [
    "# Embarked Survival Graph"
   ]
  },
  {
   "cell_type": "code",
   "execution_count": null,
   "id": "c3368ec2",
   "metadata": {},
   "outputs": [],
   "source": [
    "all_data_df[[\"Embarked\", \"Survived\"]].groupby([\"Embarked\"], as_index=False).mean().sort_values(by=\"Survived\", ascending=False)"
   ]
  },
  {
   "cell_type": "code",
   "execution_count": null,
   "id": "8539c2a6",
   "metadata": {},
   "outputs": [],
   "source": [
    "pie = plt.figure(5)\n",
    "ax = pie.add_axes([0,0,1,1])\n",
    "ax.axis(\"equal\")\n",
    "l=[\"C = Cherbourg\", \"Q = Queenstown\", \"S = Southampton\"]\n",
    "s=[0.492593, 0.439024, 0.333698]\n",
    "ax.pie(s, labels = l, autopct=\"%1.2f%%\")\n",
    "\n",
    "plt.savefig(\"resource/images/Embarked_Survived_Pie.jpg\")"
   ]
  },
  {
   "cell_type": "code",
   "execution_count": null,
   "id": "524bc430",
   "metadata": {},
   "outputs": [],
   "source": [
    "sns.countplot(x='Embarked', data=all_data_df, palette='hls', hue='Survived')\n",
    "plt.xticks(rotation=45)\n",
    "\n",
    "plt.savefig(\"resource/images/Embarked_Survived_Bar.jpg\")"
   ]
  },
  {
   "cell_type": "code",
   "execution_count": null,
   "id": "6dac10ba",
   "metadata": {},
   "outputs": [],
   "source": [
    "#Majority of the passengers boarded from S. So, the missing values can be filled with S.\n",
    "#Majority of class 3 passengers boarded from Q.\n",
    "#S looks lucky for class 1 and 2 passengers compared to class 3."
   ]
  },
  {
   "cell_type": "code",
   "execution_count": null,
   "id": "c876d066",
   "metadata": {},
   "outputs": [],
   "source": []
  },
  {
   "cell_type": "code",
   "execution_count": null,
   "id": "adcb8d8b",
   "metadata": {},
   "outputs": [],
   "source": []
  }
 ],
 "metadata": {
  "kernelspec": {
   "display_name": "Python 3",
   "language": "python",
   "name": "python3"
  },
  "language_info": {
   "codemirror_mode": {
    "name": "ipython",
    "version": 3
   },
   "file_extension": ".py",
   "mimetype": "text/x-python",
   "name": "python",
   "nbconvert_exporter": "python",
   "pygments_lexer": "ipython3",
   "version": "3.8.8"
  }
 },
 "nbformat": 4,
 "nbformat_minor": 5
}
