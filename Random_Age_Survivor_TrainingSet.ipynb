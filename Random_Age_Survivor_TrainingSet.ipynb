{
 "cells": [
  {
   "cell_type": "markdown",
   "id": "26a43ce0",
   "metadata": {},
   "source": [
    "# Dependencies"
   ]
  },
  {
   "cell_type": "code",
   "execution_count": null,
   "id": "96bd8678",
   "metadata": {},
   "outputs": [],
   "source": [
    "import warnings\n",
    "warnings.simplefilter('ignore')\n",
    "\n",
    "%matplotlib inline\n",
    "import matplotlib.pyplot as plt\n",
    "import matplotlib\n",
    "matplotlib.rcParams['font.size'] = 8.0\n",
    "import pandas as pd\n",
    "import numpy as np\n",
    "import seaborn as sns\n",
    "\n",
    "from math import log\n",
    "\n",
    "from sklearn import tree\n",
    "from sklearn.model_selection import train_test_split\n",
    "from sklearn.linear_model import LogisticRegression\n",
    "from sklearn.ensemble import RandomForestClassifier\n",
    "# from sklearn.datasets import load_iris"
   ]
  },
  {
   "cell_type": "markdown",
   "id": "c699e972",
   "metadata": {},
   "source": [
    "# Read the CSV and Preform Basic Data Cleaning"
   ]
  },
  {
   "cell_type": "code",
   "execution_count": null,
   "id": "16ebb5e9",
   "metadata": {},
   "outputs": [],
   "source": [
    "gender_df = pd.read_csv(\"data/gender_submission.csv\")\n",
    "test_df1 = pd.read_csv(\"data/test.csv\")\n",
    "train_df = pd.read_csv(\"data/train.csv\")\n",
    "\n",
    "# Edit datasets\n",
    "test_df2 = pd.read_csv(\"data/test.csv\")\n",
    "train_df2 = pd.read_csv(\"data/train.csv\")"
   ]
  },
  {
   "cell_type": "code",
   "execution_count": null,
   "id": "d2fcaf1b",
   "metadata": {},
   "outputs": [],
   "source": [
    "df1 = test_df1.count()\n",
    "df1 = pd.DataFrame(df1).reset_index().rename(columns={\"index\":\"fields\", 0:\"fields_value_count\"})\n",
    "df1"
   ]
  },
  {
   "cell_type": "code",
   "execution_count": null,
   "id": "15de26ff",
   "metadata": {},
   "outputs": [],
   "source": [
    "sns.heatmap(test_df1.isnull())\n",
    "plt.title(\"Column Statistics of Null Values\")\n",
    "plt.savefig(\"resource/images/na_test_df_heatmap.png\", bbox_inches='tight', pad_inches=0.5)"
   ]
  },
  {
   "cell_type": "code",
   "execution_count": null,
   "id": "70f2542d",
   "metadata": {},
   "outputs": [],
   "source": [
    "# Droping columns\n",
    "test_df3 = test_df1.drop(['PassengerId', 'Name', 'Ticket', 'Cabin', 'Embarked'], axis=1)\n",
    "train_df2 = train_df.drop(['PassengerId', 'Name', 'Ticket', 'Cabin', 'Embarked'], axis=1)\n",
    "\n",
    "# Because Fare only account for one with Null, we filtering for all row not null. Easy peasy\n",
    "test_df3 = test_df3[test_df3['Fare'].notna()]\n",
    "\n",
    "# Replaced null Age value with random number between the youngest and oldest age\n",
    "test_df3['Age'] = test_df3['Age'].apply(lambda x: x if pd.notnull(x) else np.random.randint(test_df3['Age'].min(), test_df3['Age'].max()))\n",
    "train_df2['Age'] = train_df2['Age'].apply(lambda x: x if pd.notnull(x) else np.random.randint(train_df2['Age'].min(), train_df2['Age'].max()))\n",
    "\n",
    "# Because suvvived column is missing from dataset, I used numpy to randomly add 0 and 1 for survived or not as a column\n",
    "test_df3['Survived'] = np.random.randint(2, size=len(test_df3))\n",
    "\n",
    "# Save As test_df\n",
    "test_df = test_df3\n",
    "train_df = train_df2\n",
    "\n",
    "sns.heatmap(test_df3.isnull())\n",
    "plt.title(\"Column Statistics Not Null\", )\n",
    "plt.savefig(\"resource/images/not_na_test_df_heatmap.png\", bbox_inches='tight', pad_inches=0.5)\n",
    "\n",
    "sns.heatmap(train_df2.isnull())\n",
    "plt.title(\"Column Statistics Not Null\", )\n",
    "plt.savefig(\"resource/images/not_na_train_df_heatmap.png\", bbox_inches='tight', pad_inches=0.5)"
   ]
  },
  {
   "cell_type": "markdown",
   "id": "c50c0b5a",
   "metadata": {},
   "source": [
    "## New Age Table"
   ]
  },
  {
   "cell_type": "code",
   "execution_count": null,
   "id": "a45325bd",
   "metadata": {},
   "outputs": [],
   "source": [
    "test_df2 = test_df2.loc[test_df2['Age'].isnull()]\n",
    "test_df2['New Age'] = test_df3['Age'].copy()\n",
    "new_age = test_df2[['PassengerId', 'Sex', 'Age', 'New Age']]\n",
    "new_age"
   ]
  },
  {
   "cell_type": "markdown",
   "id": "b178323a",
   "metadata": {},
   "source": [
    "# Logistic Regression"
   ]
  },
  {
   "cell_type": "markdown",
   "id": "be441f1d",
   "metadata": {},
   "source": [
    "Preparing features columns and output of x and y"
   ]
  },
  {
   "cell_type": "code",
   "execution_count": null,
   "id": "76bc2315",
   "metadata": {},
   "outputs": [],
   "source": [
    "x = pd.get_dummies(train_df[['Pclass', 'Sex', 'Age', 'SibSp', 'Parch', 'Fare']])\n",
    "y = train_df['Survived']\n",
    "print(x.shape, y.shape)\n",
    "print(x)\n",
    "print(y)"
   ]
  },
  {
   "cell_type": "markdown",
   "id": "0b4a4234",
   "metadata": {},
   "source": [
    "# Fitting x and y using sklearn"
   ]
  },
  {
   "cell_type": "code",
   "execution_count": null,
   "id": "1767ab16",
   "metadata": {},
   "outputs": [],
   "source": [
    "x_train, x_test, y_train, y_test = train_test_split(x,y, random_state=42)"
   ]
  },
  {
   "cell_type": "markdown",
   "id": "0f867ede",
   "metadata": {},
   "source": [
    "# Classifying data for Logistic Regression"
   ]
  },
  {
   "cell_type": "code",
   "execution_count": null,
   "id": "4f12d013",
   "metadata": {},
   "outputs": [],
   "source": [
    "classifier = LogisticRegression()\n",
    "classifier.fit(x_train, y_train)"
   ]
  },
  {
   "cell_type": "markdown",
   "id": "1a1fe354",
   "metadata": {},
   "source": [
    "# Scoring Classifiers"
   ]
  },
  {
   "cell_type": "code",
   "execution_count": null,
   "id": "3d8db656",
   "metadata": {},
   "outputs": [],
   "source": [
    "print(f\"Training Data Score: {classifier.score(x_train, y_train)}\")\n",
    "print(f\"Testing Data Score: {classifier.score(x_test, y_test)}\")"
   ]
  },
  {
   "cell_type": "code",
   "execution_count": null,
   "id": "29e6f086",
   "metadata": {},
   "outputs": [],
   "source": [
    "# Make prediction and store the accuracy score\n",
    "lr_prediction = classifier.predict(x_test)\n",
    "\n",
    "from sklearn.metrics import accuracy_score\n",
    "logistic_regression = accuracy_score(y_test,lr_prediction)*100\n",
    "logistic_regression"
   ]
  },
  {
   "cell_type": "markdown",
   "id": "6d824f41",
   "metadata": {},
   "source": [
    "# Creating test dataset to run the machine learning model on"
   ]
  },
  {
   "cell_type": "code",
   "execution_count": null,
   "id": "8c6240f3",
   "metadata": {},
   "outputs": [],
   "source": [
    "x_test_sur = pd.get_dummies(test_df[['Pclass', 'Sex', 'Age', 'SibSp', 'Parch', 'Fare']])\n",
    "y_test_sur = test_df['Survived']\n",
    "\n",
    "# Creating predictions\n",
    "predictions = classifier.predict(x_test_sur)\n",
    "\n",
    "# Creating prediction vs actual Dataset\n",
    "testing = pd.DataFrame({\"Predictions\": predictions, \"Actual\": y_test_sur})\n",
    "testing.loc[(testing[\"Predictions\"] == 0), \"Predictions\" ] = \"Not Survived\"\n",
    "testing.loc[(testing[\"Predictions\"] == 1), \"Predictions\" ] = \"Survived\"\n",
    "testing.loc[(testing[\"Actual\"] == 0), \"Actual\" ] = \"Not Survived\"\n",
    "testing.loc[(testing[\"Actual\"] == 1), \"Actual\" ] = \"Survived\"\n",
    "testing\n",
    "\n",
    "# Creating Crosstab Dataset\n",
    "testing_crosstab = pd.crosstab(testing['Actual'], testing['Predictions'])\n",
    "\n",
    "# Creating Visual for Crosstab\n",
    "logistic_regression_heatmap = sns.heatmap(testing_crosstab, cmap=\"viridis\", fmt=\"g\", annot=True, annot_kws={'ha':'center','va':'center'})\n",
    "bottom, top = logistic_regression_heatmap.get_ylim()\n",
    "plt.title(\"Logistic Regression Crosstab\")\n",
    "plt.savefig(\"resource/images/crosstab_prediction_heatmap.png\", bbox_inches='tight', pad_inches=0.5)"
   ]
  },
  {
   "cell_type": "markdown",
   "id": "070fe1ed",
   "metadata": {},
   "source": []
  },
  {
   "cell_type": "markdown",
   "id": "c4a5ca7e",
   "metadata": {},
   "source": [
    "# Decision Tree"
   ]
  },
  {
   "cell_type": "code",
   "execution_count": null,
   "id": "c4f761fa",
   "metadata": {},
   "outputs": [],
   "source": [
    "x = pd.get_dummies(train_df[['Pclass', 'Sex', 'Age', 'SibSp', 'Parch', 'Fare']])\n",
    "y = train_df['Survived'].values.reshape(-1,1)\n",
    "feature_names = x\n",
    "# print(x.shape, y.shape)\n",
    "# print(x)\n",
    "# print(y)\n",
    "\n",
    "x_train, x_test, y_train, y_test = train_test_split(x,y, random_state=42)\n",
    "\n",
    "clf = tree.DecisionTreeClassifier()\n",
    "clf = clf.fit(x_train, y_train)\n",
    "clf.score(x_test, y_test)"
   ]
  },
  {
   "cell_type": "code",
   "execution_count": null,
   "id": "8e5f9a87",
   "metadata": {},
   "outputs": [],
   "source": [
    "# Make prediction and store the accuracy score\n",
    "dt_prediction = clf.predict(x_test)\n",
    "\n",
    "decision_tree = accuracy_score(y_test,dt_prediction)*100\n",
    "decision_tree"
   ]
  },
  {
   "cell_type": "markdown",
   "id": "903f2e96",
   "metadata": {},
   "source": [
    "# Random Forest"
   ]
  },
  {
   "cell_type": "code",
   "execution_count": null,
   "id": "9941471a",
   "metadata": {},
   "outputs": [],
   "source": [
    "rf = RandomForestClassifier(n_estimators=200)\n",
    "rf = rf.fit(x_train, y_train)\n",
    "rf.score(x_test, y_test)\n",
    "\n",
    "sorted(zip(rf.feature_importances_, feature_names), reverse=True)"
   ]
  },
  {
   "cell_type": "code",
   "execution_count": null,
   "id": "e1d5a532",
   "metadata": {},
   "outputs": [],
   "source": [
    "# Make prediction and store the accuracy score\n",
    "rf_prediction = rf.predict(x_test)\n",
    "\n",
    "random_forest = accuracy_score(y_test,rf_prediction)*100\n",
    "random_forest"
   ]
  },
  {
   "cell_type": "markdown",
   "id": "af92752e",
   "metadata": {},
   "source": [
    "# Create a sorted table of the accuracy scores for each model"
   ]
  },
  {
   "cell_type": "code",
   "execution_count": null,
   "id": "bdb93255",
   "metadata": {},
   "outputs": [],
   "source": [
    "results = pd.DataFrame({\n",
    "    \"Model\" : [\"Logistic Regression\", \"Random Forest\", \"Decision Tree\"],\n",
    "    \"Score\" : [logistic_regression, random_forest, decision_tree]})\n",
    "\n",
    "results_df = results.sort_values(by = \"Score\", ascending = False)\n",
    "results_df = results_df.set_index(\"Model\")\n",
    "results_df"
   ]
  },
  {
   "cell_type": "markdown",
   "id": "147d8731",
   "metadata": {},
   "source": [
    "# Make predictions"
   ]
  },
  {
   "cell_type": "code",
   "execution_count": null,
   "id": "e2992daa",
   "metadata": {},
   "outputs": [],
   "source": [
    "# Nicole\n",
    "Pclass = 2\n",
    "Age = 30\n",
    "SibSp =  1\n",
    "Parch = 1\n",
    "Fare = 100\n",
    "Sex_female = 1\n",
    "Sex_male = 0\n",
    "\n",
    "nicole = {'name': 'Nicole', \n",
    "          'data': [Pclass, Age, SibSp, Parch, Fare, Sex_female, Sex_male]}"
   ]
  },
  {
   "cell_type": "code",
   "execution_count": null,
   "id": "80da8781",
   "metadata": {},
   "outputs": [],
   "source": [
    "# Anne\n",
    "Pclass = 2 \n",
    "Age = 48\n",
    "SibSp = 0 \n",
    "Parch = 2\n",
    "Fare = 100\n",
    "Sex_female = 1\n",
    "Sex_male = 0\n",
    "\n",
    "anne = {'name': 'Anne', \n",
    "        'data': [Pclass, Age, SibSp, Parch, Fare, Sex_female, Sex_male]}"
   ]
  },
  {
   "cell_type": "code",
   "execution_count": null,
   "id": "71291ec8",
   "metadata": {},
   "outputs": [],
   "source": [
    "# Mariano\n",
    "Pclass = 2\n",
    "Age = 28\n",
    "SibSp = 1 \n",
    "Parch = 2\n",
    "Fare = 200\n",
    "Sex_female = 0\n",
    "Sex_male = 1\n",
    "\n",
    "mariano = {'name': 'Mariano', \n",
    "          'data': [Pclass, Age, SibSp, Parch, Fare, Sex_female, Sex_male]}"
   ]
  },
  {
   "cell_type": "code",
   "execution_count": null,
   "id": "abeb56ed",
   "metadata": {},
   "outputs": [],
   "source": [
    "# Kendall\n",
    "PClass = 2\n",
    "Age = 43\n",
    "Sibsp = 0\n",
    "Pach = 0\n",
    "Fare = 300\n",
    "Sex_female = 0\n",
    "Sex_male = 1\n",
    "\n",
    "kendall = {'name': 'Kendall', \n",
    "        'data': [Pclass, Age, SibSp, Parch, Fare, Sex_female, Sex_male]}"
   ]
  },
  {
   "cell_type": "code",
   "execution_count": null,
   "id": "024f0d4c",
   "metadata": {},
   "outputs": [],
   "source": [
    "# Matt\n",
    "Pclass = 2\n",
    "Age = 28\n",
    "SibSp = 2 \n",
    "Parch = 2\n",
    "Fare = 150\n",
    "Sex_female = 0\n",
    "Sex_male = 1\n",
    "\n",
    "matt = {'name': 'Matt', \n",
    "        'data': [Pclass, Age, SibSp, Parch, Fare, Sex_female, Sex_male]}"
   ]
  },
  {
   "cell_type": "code",
   "execution_count": null,
   "id": "c9453c33",
   "metadata": {},
   "outputs": [],
   "source": [
    "# Rose (Titanic character)\n",
    "Pclass = 1\n",
    "Age = 17\n",
    "SibSp = 1 \n",
    "Parch = 1\n",
    "Fare = 2250\n",
    "Sex_female = 1\n",
    "Sex_male = 0\n",
    "rose = {'name': 'Rose from The Titanic', \n",
    "        'data': [Pclass, Age, SibSp, Parch, Fare, Sex_female, Sex_male]}"
   ]
  },
  {
   "cell_type": "code",
   "execution_count": null,
   "id": "b068c82d",
   "metadata": {},
   "outputs": [],
   "source": [
    "# Jack (Titanic character)\n",
    "Pclass = 3\n",
    "Age = 20\n",
    "SibSp = 0 \n",
    "Parch = 0\n",
    "Fare = 27.5\n",
    "Sex_female = 0\n",
    "Sex_male = 1\n",
    "jack = {'name': 'Jack from The Titanic', \n",
    "        'data': [Pclass, Age, SibSp, Parch, Fare, Sex_female, Sex_male]}"
   ]
  },
  {
   "cell_type": "code",
   "execution_count": null,
   "id": "6e5f0a7e",
   "metadata": {},
   "outputs": [],
   "source": [
    "# Make predictions with the random forest model\n",
    "people_to_predict = [nicole, anne, mariano, kendall, matt, rose, jack]\n",
    "people_to_predict\n",
    "\n",
    "for person in people_to_predict:\n",
    "    data = person['data']\n",
    "    name = person['name']\n",
    "    prediction = rf.predict(np.array([data]))\n",
    "    print('--------------------------------------------------')\n",
    "    if prediction == 1:\n",
    "        print(f'Our random forest model predicts {name}')\n",
    "        print(f'-- Passenger Class: {data[0]}')\n",
    "        print(f'-- Age: {data[1]}')\n",
    "        print(f'-- Number of siblings or spouses: {data[2]}')\n",
    "        print(f'-- Number of parents or children: {data[3]}')\n",
    "        print(f'-- Fare paid: {data[4]}') \n",
    "        if data[5] == 0:\n",
    "              print('-- Sex: Male')\n",
    "        else:\n",
    "              print('-- Sex: Female')\n",
    "        print('WOULD have survived the sinking of the titanic.')\n",
    "    else:\n",
    "        print(f'Our random forest model predicts {name}')\n",
    "        print(f'-- Passenger Class: {data[0]}')\n",
    "        print(f'-- Age: {data[1]}')\n",
    "        print(f'-- Number of siblings or spouses: {data[2]}')\n",
    "        print(f'-- Number of parents or children: {data[3]}')\n",
    "        print(f'-- Fair paid: {data[4]}') \n",
    "        if data[5] == 0:\n",
    "              print('-- Sex: Male')\n",
    "        else:\n",
    "              print('-- Sex: Female')\n",
    "        print('WOULD NOT have survived the sinking of the titanic.')"
   ]
  },
  {
   "cell_type": "code",
   "execution_count": null,
   "id": "570d22f9",
   "metadata": {},
   "outputs": [],
   "source": []
  }
 ],
 "metadata": {
  "kernelspec": {
   "display_name": "Python 3",
   "language": "python",
   "name": "python3"
  },
  "language_info": {
   "codemirror_mode": {
    "name": "ipython",
    "version": 3
   },
   "file_extension": ".py",
   "mimetype": "text/x-python",
   "name": "python",
   "nbconvert_exporter": "python",
   "pygments_lexer": "ipython3",
   "version": "3.8.8"
  }
 },
 "nbformat": 4,
 "nbformat_minor": 5
}
