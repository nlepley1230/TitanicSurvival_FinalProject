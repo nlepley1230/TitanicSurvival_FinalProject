{
 "cells": [
  {
   "cell_type": "code",
   "execution_count": null,
   "id": "b8bcf440",
   "metadata": {},
   "outputs": [],
   "source": [
    "import pandas as pd\n",
    "import numpy as np\n",
    "import matplotlib.pyplot as plt"
   ]
  },
  {
   "cell_type": "markdown",
   "id": "309bd429",
   "metadata": {},
   "source": [
    "# Read the CSV and Preform Basic Data Cleaning"
   ]
  },
  {
   "cell_type": "code",
   "execution_count": null,
   "id": "d2fe74fe",
   "metadata": {},
   "outputs": [],
   "source": [
    "gender_df = pd.read_csv(\"data/gender_submission.csv\")\n",
    "test_df = pd.read_csv(\"data/test.csv\")\n",
    "train_df = pd.read_csv(\"data/train.csv\")"
   ]
  },
  {
   "cell_type": "code",
   "execution_count": null,
   "id": "71dd5c88",
   "metadata": {},
   "outputs": [],
   "source": [
    "#checking for null values\n",
    "train_df.info()"
   ]
  },
  {
   "cell_type": "code",
   "execution_count": null,
   "id": "f17bb3c0",
   "metadata": {},
   "outputs": [],
   "source": [
    "#Description of dataset\n",
    "train_df.describe()"
   ]
  },
  {
   "cell_type": "markdown",
   "id": "680465e9",
   "metadata": {},
   "source": [
    "# Passenger Class Survival Graphs"
   ]
  },
  {
   "cell_type": "code",
   "execution_count": null,
   "id": "575ad8b9",
   "metadata": {},
   "outputs": [],
   "source": [
    "train_df[[\"Pclass\", \"Survived\"]].groupby([\"Pclass\"], as_index=False).mean().sort_values(by=\"Survived\", ascending=False)"
   ]
  },
  {
   "cell_type": "code",
   "execution_count": null,
   "id": "90675ff8",
   "metadata": {},
   "outputs": [],
   "source": [
    "plt.figure(1)\n",
    "train_df.loc[train_df[\"Survived\"]==1, \"Pclass\"].value_counts().sort_index().plot.bar()\n",
    "plt.title(\"People who survive according to ticket class.\")"
   ]
  },
  {
   "cell_type": "code",
   "execution_count": null,
   "id": "fa864741",
   "metadata": {},
   "outputs": [],
   "source": [
    "plt.figure(2)\n",
    "train_df.loc[train_df[\"Survived\"]==0, \"Pclass\"].value_counts().sort_index().plot.bar()\n",
    "plt.title(\"People who didn't survive according to ticket class.\")"
   ]
  },
  {
   "cell_type": "markdown",
   "id": "a5f6eee1",
   "metadata": {},
   "source": [
    "# Age Survival Graphs"
   ]
  },
  {
   "cell_type": "code",
   "execution_count": null,
   "id": "58cede2c",
   "metadata": {},
   "outputs": [],
   "source": [
    "plt.figure(1)\n",
    "age = train_df.loc[train_df.Survived== 1, \"Age\"]\n",
    "plt.hist(age, np.arange(0,100,10))\n",
    "plt.xticks(np.arange(0,100,10))\n",
    "plt.title(\"Histogram of people who survived by age groups\")"
   ]
  },
  {
   "cell_type": "code",
   "execution_count": null,
   "id": "1054ee23",
   "metadata": {},
   "outputs": [],
   "source": [
    "plt.figure(2)\n",
    "age = train_df.loc[train_df.Survived== 0, \"Age\"]\n",
    "plt.hist(age, np.arange(0,100,10))\n",
    "plt.xticks(np.arange(0,100,10))\n",
    "plt.title(\"Histogram of people who didn't survived by age groups\")"
   ]
  },
  {
   "cell_type": "markdown",
   "id": "2e6ed62e",
   "metadata": {},
   "source": [
    "# Embarked Survival Graph"
   ]
  },
  {
   "cell_type": "code",
   "execution_count": null,
   "id": "a0f847a4",
   "metadata": {},
   "outputs": [],
   "source": [
    "train_df[[\"Embarked\", \"Survived\"]].groupby([\"Embarked\"], as_index=False).mean().sort_values(by=\"Survived\", ascending=False)"
   ]
  },
  {
   "cell_type": "code",
   "execution_count": null,
   "id": "6f05c637",
   "metadata": {},
   "outputs": [],
   "source": [
    "pie = plt.figure()\n",
    "ax = pie.add_axes([0,0,1,1])\n",
    "ax.axis(\"equal\")\n",
    "l=[\"C = Cherbourg\", \"Q = Queenstown\", \"S = Southampton\"]\n",
    "s=[0.553571, 0.389610, 0.336957]\n",
    "ax.pie(s, labels = l, autopct=\"%1.2f%%\")\n",
    "plt.show()"
   ]
  },
  {
   "cell_type": "code",
   "execution_count": null,
   "id": "b693ff41",
   "metadata": {},
   "outputs": [],
   "source": [
    "#detailed look at what is actually missing in data\n",
    "\n",
    "total = train_df.isnull().sum().sort_values(ascending=False)\n",
    "percent_1 = train_df.isnull().sum()/train_df.isnull().count()*100\n",
    "percent_2 = (round(percent_1, 1)).sort_values(ascending=False)\n",
    "missing_data = pd.concat([total, percent_2], axis=1, keys=['Total', '%'])\n",
    "missing_data.head(5)"
   ]
  },
  {
   "cell_type": "code",
   "execution_count": null,
   "id": "cf71963f",
   "metadata": {},
   "outputs": [],
   "source": [
    "#Non needed columns\n",
    "train_df = train_df.drop(['Ticket'], axis=1)\n",
    "test_df = test_df.drop(['Ticket'], axis=1)"
   ]
  },
  {
   "cell_type": "code",
   "execution_count": null,
   "id": "5faa9aba",
   "metadata": {},
   "outputs": [],
   "source": [
    "train_df = train_df.drop(['Cabin'], axis=1)\n",
    "test_df = test_df.drop(['Cabin'], axis=1)"
   ]
  },
  {
   "cell_type": "code",
   "execution_count": null,
   "id": "b5193bf2",
   "metadata": {},
   "outputs": [],
   "source": [
    "train_df = train_df.drop(['Name'], axis=1)\n",
    "test_df = test_df.drop(['Name'], axis=1)"
   ]
  },
  {
   "cell_type": "code",
   "execution_count": null,
   "id": "38624f87",
   "metadata": {},
   "outputs": [],
   "source": [
    "#dropping na from names\n",
    "train_df = train_df[train_df['Age'].notna()]\n",
    "test_df = test_df[test_df['Age'].notna()]"
   ]
  },
  {
   "cell_type": "code",
   "execution_count": null,
   "id": "c2dab333",
   "metadata": {},
   "outputs": [],
   "source": [
    "#Embarked feature has only 2 missing values, filled in with most common\n",
    "common_value = 'S'\n",
    "data = [train_df, test_df]\n",
    "\n",
    "for dataset in data:\n",
    "    dataset['Embarked'] = dataset['Embarked'].fillna(common_value)"
   ]
  },
  {
   "cell_type": "code",
   "execution_count": null,
   "id": "ffade991",
   "metadata": {
    "scrolled": true
   },
   "outputs": [],
   "source": [
    "train_df.info()"
   ]
  },
  {
   "cell_type": "code",
   "execution_count": null,
   "id": "41bf4170",
   "metadata": {
    "scrolled": true
   },
   "outputs": [],
   "source": [
    "train_df.head()"
   ]
  },
  {
   "cell_type": "code",
   "execution_count": null,
   "id": "7cfb1c05",
   "metadata": {},
   "outputs": [],
   "source": [
    "#changed the fare na to 0 and changed type to interget from a float64\n",
    "data = [train_df, test_df]\n",
    "\n",
    "for dataset in data:\n",
    "    dataset['Fare'] = dataset['Fare'].fillna(0)\n",
    "    dataset['Fare'] = dataset['Fare'].astype(int)"
   ]
  },
  {
   "cell_type": "code",
   "execution_count": null,
   "id": "b6dd7635",
   "metadata": {},
   "outputs": [],
   "source": [
    "data"
   ]
  },
  {
   "cell_type": "code",
   "execution_count": null,
   "id": "ca501198",
   "metadata": {},
   "outputs": [],
   "source": [
    "#Made genders bianary\n",
    "genders = {\"male\": 0, \"female\": 1}\n",
    "data = [train_df, test_df]\n",
    "\n",
    "for dataset in data:\n",
    "    dataset['Sex'] = dataset['Sex'].map(genders)"
   ]
  },
  {
   "cell_type": "code",
   "execution_count": null,
   "id": "0f4c5b80",
   "metadata": {},
   "outputs": [],
   "source": [
    "#Making ports numeric\n",
    "ports = {\"S\": 0, \"C\": 1, \"Q\": 2}\n",
    "data = [train_df, test_df]\n",
    "\n",
    "for dataset in data:\n",
    "    dataset['Embarked'] = dataset['Embarked'].map(ports)"
   ]
  },
  {
   "cell_type": "code",
   "execution_count": null,
   "id": "fb397763",
   "metadata": {},
   "outputs": [],
   "source": [
    "X_train = train_df.drop(\"Survived\", axis=1)\n",
    "Y_train = train_df[\"Survived\"]\n",
    "X_test  = test_df.drop(\"PassengerId\", axis=1).copy()\n",
    "X_train.shape, Y_train.shape, X_test.shape"
   ]
  },
  {
   "cell_type": "code",
   "execution_count": null,
   "id": "b91c9f84",
   "metadata": {},
   "outputs": [],
   "source": [
    "X_test.head()"
   ]
  },
  {
   "cell_type": "markdown",
   "id": "065303e3",
   "metadata": {},
   "source": [
    "# Model Building and Training"
   ]
  },
  {
   "cell_type": "code",
   "execution_count": null,
   "id": "7caae838",
   "metadata": {},
   "outputs": [],
   "source": [
    "from sklearn.ensemble import RandomForestClassifier"
   ]
  },
  {
   "cell_type": "code",
   "execution_count": null,
   "id": "2a3d3986",
   "metadata": {},
   "outputs": [],
   "source": [
    "random_forest = RandomForestClassifier(n_estimators=100)\n",
    "random_forest.fit(X_train, Y_train)\n",
    "Y_prediction = random_forest.predict(X_test)\n",
    "\n",
    "random_forest.score(X_train, Y_train)\n",
    "\n",
    "acc_random_forest = round(random_forest.score(X_train, Y_train) * 100, 2)\n",
    "acc_random_forest"
   ]
  },
  {
   "cell_type": "code",
   "execution_count": null,
   "id": "17d29ace",
   "metadata": {},
   "outputs": [],
   "source": []
  }
 ],
 "metadata": {
  "kernelspec": {
   "display_name": "Python 3",
   "language": "python",
   "name": "python3"
  },
  "language_info": {
   "codemirror_mode": {
    "name": "ipython",
    "version": 3
   },
   "file_extension": ".py",
   "mimetype": "text/x-python",
   "name": "python",
   "nbconvert_exporter": "python",
   "pygments_lexer": "ipython3",
   "version": "3.8.8"
  }
 },
 "nbformat": 4,
 "nbformat_minor": 5
}
