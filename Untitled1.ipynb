{
 "cells": [
  {
   "cell_type": "code",
   "execution_count": 1,
   "id": "942a65b9",
   "metadata": {},
   "outputs": [],
   "source": [
    "import warnings\n",
    "warnings.simplefilter('ignore')\n",
    "\n",
    "%matplotlib inline\n",
    "import matplotlib.pyplot as plt\n",
    "import pandas as pd\n",
    "import numpy as np\n",
    "import seaborn as sns\n",
    "\n",
    "from math import log\n",
    "\n",
    "from sklearn import tree\n",
    "from sklearn.model_selection import train_test_split\n",
    "from sklearn.linear_model import LogisticRegression\n",
    "from sklearn.ensemble import RandomForestClassifier\n",
    "# from sklearn.datasets import load_iris"
   ]
  },
  {
   "cell_type": "code",
   "execution_count": 9,
   "id": "5e8f23d5",
   "metadata": {},
   "outputs": [],
   "source": [
    "gender_df = pd.read_csv(\"data/gender_submission.csv\")\n",
    "test_df1 = pd.read_csv(\"data/test.csv\")\n",
    "train_df = pd.read_csv(\"data/train.csv\")\n",
    "\n",
    "# Edit datasets\n",
    "test_df2 = pd.read_csv(\"data/test.csv\")\n",
    "train_df2 = pd.read_csv(\"data/train.csv\")"
   ]
  },
  {
   "cell_type": "code",
   "execution_count": 10,
   "id": "18294585",
   "metadata": {},
   "outputs": [
    {
     "data": {
      "text/html": [
       "<div>\n",
       "<style scoped>\n",
       "    .dataframe tbody tr th:only-of-type {\n",
       "        vertical-align: middle;\n",
       "    }\n",
       "\n",
       "    .dataframe tbody tr th {\n",
       "        vertical-align: top;\n",
       "    }\n",
       "\n",
       "    .dataframe thead th {\n",
       "        text-align: right;\n",
       "    }\n",
       "</style>\n",
       "<table border=\"1\" class=\"dataframe\">\n",
       "  <thead>\n",
       "    <tr style=\"text-align: right;\">\n",
       "      <th></th>\n",
       "      <th>fields</th>\n",
       "      <th>fields_value_count</th>\n",
       "    </tr>\n",
       "  </thead>\n",
       "  <tbody>\n",
       "    <tr>\n",
       "      <th>0</th>\n",
       "      <td>PassengerId</td>\n",
       "      <td>891</td>\n",
       "    </tr>\n",
       "    <tr>\n",
       "      <th>1</th>\n",
       "      <td>Survived</td>\n",
       "      <td>891</td>\n",
       "    </tr>\n",
       "    <tr>\n",
       "      <th>2</th>\n",
       "      <td>Pclass</td>\n",
       "      <td>891</td>\n",
       "    </tr>\n",
       "    <tr>\n",
       "      <th>3</th>\n",
       "      <td>Name</td>\n",
       "      <td>891</td>\n",
       "    </tr>\n",
       "    <tr>\n",
       "      <th>4</th>\n",
       "      <td>Sex</td>\n",
       "      <td>891</td>\n",
       "    </tr>\n",
       "    <tr>\n",
       "      <th>5</th>\n",
       "      <td>Age</td>\n",
       "      <td>714</td>\n",
       "    </tr>\n",
       "    <tr>\n",
       "      <th>6</th>\n",
       "      <td>SibSp</td>\n",
       "      <td>891</td>\n",
       "    </tr>\n",
       "    <tr>\n",
       "      <th>7</th>\n",
       "      <td>Parch</td>\n",
       "      <td>891</td>\n",
       "    </tr>\n",
       "    <tr>\n",
       "      <th>8</th>\n",
       "      <td>Ticket</td>\n",
       "      <td>891</td>\n",
       "    </tr>\n",
       "    <tr>\n",
       "      <th>9</th>\n",
       "      <td>Fare</td>\n",
       "      <td>891</td>\n",
       "    </tr>\n",
       "    <tr>\n",
       "      <th>10</th>\n",
       "      <td>Cabin</td>\n",
       "      <td>204</td>\n",
       "    </tr>\n",
       "    <tr>\n",
       "      <th>11</th>\n",
       "      <td>Embarked</td>\n",
       "      <td>889</td>\n",
       "    </tr>\n",
       "  </tbody>\n",
       "</table>\n",
       "</div>"
      ],
      "text/plain": [
       "         fields  fields_value_count\n",
       "0   PassengerId                 891\n",
       "1      Survived                 891\n",
       "2        Pclass                 891\n",
       "3          Name                 891\n",
       "4           Sex                 891\n",
       "5           Age                 714\n",
       "6         SibSp                 891\n",
       "7         Parch                 891\n",
       "8        Ticket                 891\n",
       "9          Fare                 891\n",
       "10        Cabin                 204\n",
       "11     Embarked                 889"
      ]
     },
     "execution_count": 10,
     "metadata": {},
     "output_type": "execute_result"
    }
   ],
   "source": [
    "df1 = train_df.count()\n",
    "df1 = pd.DataFrame(df1).reset_index().rename(columns={\"index\":\"fields\", 0:\"fields_value_count\"})\n",
    "df1"
   ]
  },
  {
   "cell_type": "code",
   "execution_count": 11,
   "id": "aca448f6",
   "metadata": {},
   "outputs": [
    {
     "data": {
      "image/png": "[encoded data removed]",
      "text/plain": [
       "<Figure size 432x288 with 2 Axes>"
      ]
     },
     "metadata": {
      "needs_background": "light"
     },
     "output_type": "display_data"
    }
   ],
   "source": [
    "sns.heatmap(train_df.isnull())\n",
    "plt.title(\"Column Statistics of Null Values\")\n",
    "plt.savefig(\"resource/images/na_train_df_heatmap.png\", bbox_inches='tight', pad_inches=0.5)"
   ]
  },
  {
   "cell_type": "code",
   "execution_count": 12,
   "id": "bbd038d1",
   "metadata": {},
   "outputs": [
    {
     "data": {
      "image/png": "[encoded data removed]",
      "text/plain": [
       "<Figure size 432x288 with 2 Axes>"
      ]
     },
     "metadata": {
      "needs_background": "light"
     },
     "output_type": "display_data"
    }
   ],
   "source": [
    "# \n",
    "train_df2 = train_df.drop(['Cabin', 'Survived'], axis=1)\n",
    "\n",
    "# Because Fare only account for one with Null, we filtering for all row not null. Easy peasy\n",
    "train_df2 = train_df2[train_df2['Embarked'].notna()]\n",
    "\n",
    "# Replaced null Age value with random number between the youngest and oldest age\n",
    "train_df2['Age'] = train_df2['Age'].apply(lambda x: x if pd.notnull(x) else np.random.randint(train_df2['Age'].min(), train_df2['Age'].max()))\n",
    "\n",
    "# Save As test_df\n",
    "train_df = train_df2\n",
    "\n",
    "sns.heatmap(train_df2.isnull())\n",
    "plt.title(\"Column Statistics Not Null\", )\n",
    "plt.savefig(\"resource/images/not_na_train_df_heatmap.png\", bbox_inches='tight', pad_inches=0.5)"
   ]
  },
  {
   "cell_type": "code",
   "execution_count": 19,
   "id": "d621222f",
   "metadata": {},
   "outputs": [
    {
     "data": {
      "text/plain": [
       "1601             7\n",
       "CA. 2343         7\n",
       "347082           7\n",
       "347088           6\n",
       "CA 2144          6\n",
       "3101295          6\n",
       "S.O.C. 14879     5\n",
       "382652           5\n",
       "113760           4\n",
       "4133             4\n",
       "LINE             4\n",
       "W./C. 6608       4\n",
       "349909           4\n",
       "113781           4\n",
       "PC 17757         4\n",
       "347077           4\n",
       "2666             4\n",
       "19950            4\n",
       "17421            4\n",
       "C.A. 31921       3\n",
       "345773           3\n",
       "230080           3\n",
       "PC 17582         3\n",
       "29106            3\n",
       "110413           3\n",
       "35273            3\n",
       "24160            3\n",
       "363291           3\n",
       "239853           3\n",
       "F.C.C. 13529     3\n",
       "C.A. 34651       3\n",
       "SC/Paris 2123    3\n",
       "PC 17755         3\n",
       "248727           3\n",
       "13502            3\n",
       "347742           3\n",
       "PC 17760         3\n",
       "371110           3\n",
       "110152           3\n",
       "PC 17572         3\n",
       "358585           2\n",
       "19943            2\n",
       "PC 17558         2\n",
       "36947            2\n",
       "2908             2\n",
       "11767            2\n",
       "347054           2\n",
       "36928            2\n",
       "28403            2\n",
       "11668            2\n",
       "Name: Ticket, dtype: int64"
      ]
     },
     "execution_count": 19,
     "metadata": {},
     "output_type": "execute_result"
    }
   ],
   "source": [
    "train_df#.Ticket.value_counts().head(50)"
   ]
  },
  {
   "cell_type": "code",
   "execution_count": null,
   "id": "82a656ee",
   "metadata": {},
   "outputs": [],
   "source": []
  }
 ],
 "metadata": {
  "kernelspec": {
   "display_name": "Python 3",
   "language": "python",
   "name": "python3"
  },
  "language_info": {
   "codemirror_mode": {
    "name": "ipython",
    "version": 3
   },
   "file_extension": ".py",
   "mimetype": "text/x-python",
   "name": "python",
   "nbconvert_exporter": "python",
   "pygments_lexer": "ipython3",
   "version": "3.8.8"
  }
 },
 "nbformat": 4,
 "nbformat_minor": 5
}
