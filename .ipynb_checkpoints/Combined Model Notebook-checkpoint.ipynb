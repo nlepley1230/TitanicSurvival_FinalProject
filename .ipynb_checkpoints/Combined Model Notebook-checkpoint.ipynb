{
 "cells": [
  {
   "cell_type": "code",
   "execution_count": null,
   "id": "b8bcf440",
   "metadata": {},
   "outputs": [],
   "source": [
    "import pandas as pd\n",
    "import numpy as np\n",
    "import matplotlib.pyplot as plt"
   ]
  },
  {
   "cell_type": "markdown",
   "id": "309bd429",
   "metadata": {},
   "source": [
    "# Read the CSV and Preform Basic Data Cleaning"
   ]
  },
  {
   "cell_type": "code",
   "execution_count": null,
   "id": "d2fe74fe",
   "metadata": {},
   "outputs": [],
   "source": [
    "gender_df = pd.read_csv(\"data/gender_submission.csv\")\n",
    "test_df = pd.read_csv(\"data/test.csv\")\n",
    "train_df = pd.read_csv(\"data/train.csv\")"
   ]
  },
  {
   "cell_type": "code",
   "execution_count": null,
   "id": "ccbadcd1",
   "metadata": {},
   "outputs": [],
   "source": [
    "train_df"
   ]
  },
  {
   "cell_type": "code",
   "execution_count": null,
   "id": "71dd5c88",
   "metadata": {},
   "outputs": [],
   "source": [
    "test_df.head()"
   ]
  },
  {
   "cell_type": "code",
   "execution_count": null,
   "id": "cf71963f",
   "metadata": {},
   "outputs": [],
   "source": [
    "gender_df"
   ]
  },
  {
   "cell_type": "markdown",
   "id": "81da8860",
   "metadata": {},
   "source": [
    "# Establish the training sets"
   ]
  },
  {
   "cell_type": "code",
   "execution_count": null,
   "id": "5458f744",
   "metadata": {},
   "outputs": [],
   "source": [
    "X_train = train_df[['Pclass', 'Sex', 'Survived','Age', 'SibSp', 'Parch', 'Fare']]"
   ]
  },
  {
   "cell_type": "code",
   "execution_count": null,
   "id": "37874fa4",
   "metadata": {},
   "outputs": [],
   "source": [
    "# Drop null values\n",
    "X_train = X_train.dropna()"
   ]
  },
  {
   "cell_type": "code",
   "execution_count": null,
   "id": "95ab8c93",
   "metadata": {},
   "outputs": [],
   "source": [
    "# Set the target variable\n",
    "y_train = X_train['Survived']"
   ]
  },
  {
   "cell_type": "code",
   "execution_count": null,
   "id": "ed57cebc",
   "metadata": {},
   "outputs": [],
   "source": [
    "y_train = y_train.values.reshape(-1, 1)"
   ]
  },
  {
   "cell_type": "code",
   "execution_count": null,
   "id": "151efb40",
   "metadata": {},
   "outputs": [],
   "source": [
    "y_train.shape"
   ]
  },
  {
   "cell_type": "code",
   "execution_count": null,
   "id": "e4807894",
   "metadata": {},
   "outputs": [],
   "source": [
    "# Drop the target variable from X_train\n",
    "X_train = X_train[['Pclass', 'Sex','Age', 'SibSp', 'Parch', 'Fare']]"
   ]
  },
  {
   "cell_type": "code",
   "execution_count": null,
   "id": "118a4d93",
   "metadata": {},
   "outputs": [],
   "source": [
    "X_train.shape"
   ]
  },
  {
   "cell_type": "markdown",
   "id": "c5e1a063",
   "metadata": {},
   "source": [
    "# Clean data for the test sets"
   ]
  },
  {
   "cell_type": "code",
   "execution_count": null,
   "id": "02c07f83",
   "metadata": {},
   "outputs": [],
   "source": [
    "# merge gender_df and test_df\n",
    "merged_test_df = test_df.merge(gender_df, on='PassengerId')"
   ]
  },
  {
   "cell_type": "code",
   "execution_count": null,
   "id": "4b0100ac",
   "metadata": {},
   "outputs": [],
   "source": [
    "merged_test_df  "
   ]
  },
  {
   "cell_type": "code",
   "execution_count": null,
   "id": "5c92382c",
   "metadata": {},
   "outputs": [],
   "source": [
    "merged_test_df = merged_test_df[['Pclass', 'Sex', 'Survived','Age', 'SibSp', 'Parch', 'Fare']]"
   ]
  },
  {
   "cell_type": "code",
   "execution_count": null,
   "id": "1837df5a",
   "metadata": {},
   "outputs": [],
   "source": [
    "merged_test_df"
   ]
  },
  {
   "cell_type": "code",
   "execution_count": null,
   "id": "dff21df9",
   "metadata": {},
   "outputs": [],
   "source": [
    "# Remove all null values from the testing set\n",
    "merged_test_df = merged_test_df.dropna()"
   ]
  },
  {
   "cell_type": "markdown",
   "id": "faa0a941",
   "metadata": {},
   "source": [
    "# Establish X and y test sets"
   ]
  },
  {
   "cell_type": "code",
   "execution_count": null,
   "id": "6b1cc34c",
   "metadata": {},
   "outputs": [],
   "source": [
    "X_test = merged_test_df[['Pclass', 'Sex', 'Age', 'SibSp', 'Parch', 'Fare']]"
   ]
  },
  {
   "cell_type": "code",
   "execution_count": null,
   "id": "ff26eccb",
   "metadata": {},
   "outputs": [],
   "source": [
    "X_test.shape"
   ]
  },
  {
   "cell_type": "code",
   "execution_count": null,
   "id": "2ef32149",
   "metadata": {},
   "outputs": [],
   "source": [
    "y_test = merged_test_df['Survived']"
   ]
  },
  {
   "cell_type": "code",
   "execution_count": null,
   "id": "256a2068",
   "metadata": {},
   "outputs": [],
   "source": [
    "y_test = y_test.values.reshape(-1,1)"
   ]
  },
  {
   "cell_type": "code",
   "execution_count": null,
   "id": "c65a8631",
   "metadata": {},
   "outputs": [],
   "source": [
    "# y_test = y_test.values.reshape(-1, 1)\n",
    "y_test.shape"
   ]
  },
  {
   "cell_type": "markdown",
   "id": "8246c56e",
   "metadata": {},
   "source": [
    "# Encode the gender data"
   ]
  },
  {
   "cell_type": "code",
   "execution_count": null,
   "id": "16c7cbaf",
   "metadata": {},
   "outputs": [],
   "source": [
    "# Encode the sex column in the test set\n",
    "X_test = X_test.copy()\n",
    "\n",
    "X_test = pd.get_dummies(X_test, columns=[\"Sex\"])\n",
    "X_test.shape"
   ]
  },
  {
   "cell_type": "code",
   "execution_count": null,
   "id": "e8d880dc",
   "metadata": {},
   "outputs": [],
   "source": [
    "X_test.head()"
   ]
  },
  {
   "cell_type": "code",
   "execution_count": null,
   "id": "fa1d6c1f",
   "metadata": {},
   "outputs": [],
   "source": [
    "# Encode the sex column in the train set\n",
    "X_train = X_train.copy()\n",
    "\n",
    "X_train = pd.get_dummies(X_train, columns=[\"Sex\"])\n",
    "X_train.head()"
   ]
  },
  {
   "cell_type": "markdown",
   "id": "0c5892e4",
   "metadata": {},
   "source": [
    "# Scale the data"
   ]
  },
  {
   "cell_type": "code",
   "execution_count": null,
   "id": "8ddaf4aa",
   "metadata": {},
   "outputs": [],
   "source": [
    "from sklearn.preprocessing import StandardScaler\n",
    "X_scaler = StandardScaler().fit(X_train)\n",
    "y_scaler = StandardScaler().fit(y_train)"
   ]
  },
  {
   "cell_type": "code",
   "execution_count": null,
   "id": "c0d2f209",
   "metadata": {},
   "outputs": [],
   "source": [
    "X_train_scaled = X_scaler.transform(X_train)\n",
    "X_test_scaled = X_scaler.transform(X_test)\n",
    "y_train_scaled = y_scaler.transform(y_train)\n",
    "y_test_scaled = y_scaler.transform(y_test)"
   ]
  },
  {
   "cell_type": "markdown",
   "id": "93a85974",
   "metadata": {},
   "source": [
    "# Create, fit and validate the models"
   ]
  },
  {
   "cell_type": "markdown",
   "id": "c00d0f94",
   "metadata": {},
   "source": [
    "Support Vector Machine Linear Classifier"
   ]
  },
  {
   "cell_type": "code",
   "execution_count": null,
   "id": "408fc922",
   "metadata": {},
   "outputs": [],
   "source": [
    "# Support vector machine linear classifier\n",
    "from sklearn.svm import SVC \n",
    "\n",
    "y_train = y_train.reshape(-1)\n",
    "svm_model = SVC(kernel='rbf')\n",
    "svm_model.fit(X_train, y_train)"
   ]
  },
  {
   "cell_type": "code",
   "execution_count": null,
   "id": "2707e90d",
   "metadata": {},
   "outputs": [],
   "source": [
    "target_names = [\"survive\", \"die\"]"
   ]
  },
  {
   "cell_type": "code",
   "execution_count": null,
   "id": "1a87157f",
   "metadata": {},
   "outputs": [],
   "source": [
    "# Calculate classification report\n",
    "from sklearn.metrics import classification_report\n",
    "smv_predictions = svm_model.predict(X_test)\n",
    "print(classification_report(y_test, smv_predictions,\n",
    "                            target_names=target_names))"
   ]
  },
  {
   "cell_type": "code",
   "execution_count": null,
   "id": "a7b00cda",
   "metadata": {},
   "outputs": [],
   "source": [
    "from sklearn.metrics import accuracy_score\n",
    "svm = accuracy_score(y_test,smv_predictions)*100\n",
    "svm"
   ]
  },
  {
   "cell_type": "markdown",
   "id": "c8c74e29",
   "metadata": {},
   "source": [
    "Random Forest Classifier"
   ]
  },
  {
   "cell_type": "code",
   "execution_count": null,
   "id": "651fb653",
   "metadata": {},
   "outputs": [],
   "source": [
    "from sklearn.ensemble import RandomForestClassifier\n",
    "\n",
    "random_forest = RandomForestClassifier(n_estimators=1000)\n",
    "random_forest.fit(X_train, y_train)\n",
    "ran_forest = random_forest.score(X_test, y_test)*100"
   ]
  },
  {
   "cell_type": "code",
   "execution_count": null,
   "id": "525b2de9",
   "metadata": {},
   "outputs": [],
   "source": [
    "ran_forest"
   ]
  },
  {
   "cell_type": "code",
   "execution_count": null,
   "id": "ca75fe7c",
   "metadata": {},
   "outputs": [],
   "source": [
    "importances = random_forest.feature_importances_\n",
    "importances"
   ]
  },
  {
   "cell_type": "code",
   "execution_count": null,
   "id": "b9c8ca73",
   "metadata": {},
   "outputs": [],
   "source": [
    "feature_names = X_test.columns"
   ]
  },
  {
   "cell_type": "code",
   "execution_count": null,
   "id": "6d2ec04d",
   "metadata": {},
   "outputs": [],
   "source": [
    "# We can sort the features by their importance\n",
    "sorted(zip(random_forest.feature_importances_, feature_names), reverse=True)"
   ]
  },
  {
   "cell_type": "code",
   "execution_count": null,
   "id": "d41d759f",
   "metadata": {},
   "outputs": [],
   "source": [
    "import seaborn as sns\n",
    "feature_imp = pd.Series(random_forest.feature_importances_, index=feature_names).sort_values(ascending=False)\n",
    "\n",
    "#print(\"Accuracy: {}\".format(metrics.accuracy_score(y_test, y_pred)))\n",
    "\n",
    "plt.figure(figsize=(10,6))\n",
    "sns.barplot(x=feature_imp, y=feature_imp.index, palette='hls')\n",
    "# Add labels to your graph\n",
    "plt.xlabel('Feature Importance Score')\n",
    "plt.ylabel('Features')\n",
    "plt.title(\"Visualizing Important Features\")\n",
    "plt.tight_layout()\n",
    "plt.savefig(\"resource/images/Random_Forest.jpg\")"
   ]
  },
  {
   "cell_type": "markdown",
   "id": "60bb980f",
   "metadata": {},
   "source": [
    "Decision Tree Model"
   ]
  },
  {
   "cell_type": "code",
   "execution_count": null,
   "id": "540645c8",
   "metadata": {},
   "outputs": [],
   "source": [
    "from sklearn import tree\n",
    "\n",
    "decision_tree_classifier = tree.DecisionTreeClassifier()\n",
    "decision_tree_classifier.fit(X_train, y_train)\n",
    "prediction = decision_tree_classifier.predict(X_test)"
   ]
  },
  {
   "cell_type": "code",
   "execution_count": null,
   "id": "f5a11ca0",
   "metadata": {},
   "outputs": [],
   "source": [
    "from sklearn.metrics import accuracy_score\n",
    "\n",
    "decision_tree = accuracy_score(y_test,prediction)*100\n",
    "decision_tree"
   ]
  },
  {
   "cell_type": "markdown",
   "id": "2f571614",
   "metadata": {},
   "source": [
    "Logistic Regression Model"
   ]
  },
  {
   "cell_type": "code",
   "execution_count": null,
   "id": "1b793ab9",
   "metadata": {},
   "outputs": [],
   "source": [
    "from sklearn.linear_model import LogisticRegression\n",
    "logreg_classifier = LogisticRegression(max_iter=1000)\n",
    "logreg_classifier"
   ]
  },
  {
   "cell_type": "code",
   "execution_count": null,
   "id": "165a4e54",
   "metadata": {},
   "outputs": [],
   "source": [
    "y_train = y_train.reshape(-1)"
   ]
  },
  {
   "cell_type": "code",
   "execution_count": null,
   "id": "16eb2560",
   "metadata": {},
   "outputs": [],
   "source": [
    "y_train.shape"
   ]
  },
  {
   "cell_type": "code",
   "execution_count": null,
   "id": "dfc3b53e",
   "metadata": {},
   "outputs": [],
   "source": [
    "# Fit the model using the training data\n",
    "logreg_classifier.fit(X_train, y_train)"
   ]
  },
  {
   "cell_type": "code",
   "execution_count": null,
   "id": "371982f8",
   "metadata": {},
   "outputs": [],
   "source": [
    "prediction = logreg_classifier.predict(X_test)"
   ]
  },
  {
   "cell_type": "code",
   "execution_count": null,
   "id": "2685dfdf",
   "metadata": {},
   "outputs": [],
   "source": [
    "logistic_regression = accuracy_score(y_test,prediction)*100\n",
    "logistic_regression"
   ]
  },
  {
   "cell_type": "markdown",
   "id": "9a00b8d7",
   "metadata": {},
   "source": [
    "K Nearest Neighbors"
   ]
  },
  {
   "cell_type": "code",
   "execution_count": null,
   "id": "f859bf6a",
   "metadata": {},
   "outputs": [],
   "source": [
    "from sklearn.neighbors import KNeighborsClassifier\n",
    "\n",
    "train_scores = []\n",
    "test_scores = []\n",
    "for k in range(1, 20, 2):\n",
    "    knn = KNeighborsClassifier(n_neighbors=k)\n",
    "    knn.fit(X_train_scaled, y_train.ravel())\n",
    "    train_score = knn.score(X_train_scaled, y_train)\n",
    "    test_score = knn.score(X_test_scaled, y_test)\n",
    "    train_scores.append(train_score)\n",
    "    test_scores.append(test_score)\n",
    "    print(f\"k: {k}, Train/Test Score: {train_score:.3f}/{test_score:.3f}\")\n",
    "    \n",
    "    \n",
    "plt.plot(range(1, 20, 2), train_scores, marker='o')\n",
    "plt.plot(range(1, 20, 2), test_scores, marker=\"x\")\n",
    "plt.xlabel(\"k neighbors\")\n",
    "plt.ylabel(\"Testing accuracy Score\")\n",
    "\n",
    "plt.savefig(\"resource/images/KNN.jpg\")"
   ]
  },
  {
   "cell_type": "code",
   "execution_count": null,
   "id": "d398e42f",
   "metadata": {},
   "outputs": [],
   "source": [
    "knn_classifier = KNeighborsClassifier(n_neighbors=9)\n",
    "knn_classifier.fit(X_train_scaled, y_train.ravel())\n",
    "knn = knn_classifier.score(X_test, y_test)*100\n",
    "knn"
   ]
  },
  {
   "cell_type": "code",
   "execution_count": null,
   "id": "96c3f601",
   "metadata": {},
   "outputs": [],
   "source": [
    "results = pd.DataFrame({\n",
    "    \"Model\" : [\"Logistic Regression\", \"Random Forest\", \"Support Vector Machine\", \"K Nearest Neighbors\", \"Decision Tree\"],\n",
    "    \"Score\" : [logistic_regression, ran_forest, svm, knn, decision_tree]})\n",
    "\n",
    "results_df = results.sort_values(by = \"Score\", ascending = False)\n",
    "results_df = results_df.set_index(\"Model\")\n",
    "results_df"
   ]
  },
  {
   "cell_type": "markdown",
   "id": "00915710",
   "metadata": {},
   "source": [
    "# Make predictions"
   ]
  },
  {
   "cell_type": "code",
   "execution_count": null,
   "id": "6de5a10c",
   "metadata": {},
   "outputs": [],
   "source": [
    "# Generate a new data point\n",
    "import numpy as np\n",
    "\n",
    "### Prediction person data (Pclass = 1, 2, or 3)\n",
    "Pclass = 1\n",
    "Age = 20 \n",
    "SibSp = 1 \n",
    "Parch = 0\n",
    "Fare = 75\n",
    "Sex_female = 1\n",
    "Sex_male = 0\n",
    "\n",
    "new_person = np.array([[Pclass, Age, SibSp, Parch, Fare, Sex_female, Sex_male]])\n",
    "new_person"
   ]
  },
  {
   "cell_type": "code",
   "execution_count": null,
   "id": "18d5afed",
   "metadata": {},
   "outputs": [],
   "source": [
    "### Prediction person number 2\n",
    "Pclass = 3\n",
    "Age = 45 \n",
    "SibSp = 1 \n",
    "Parch = 2\n",
    "Fare = 20\n",
    "Sex_female = 0\n",
    "Sex_male = 1\n",
    "\n",
    "new_person2 = np.array([[Pclass, Age, SibSp, Parch, Fare, Sex_female, Sex_male]])\n",
    "new_person2"
   ]
  },
  {
   "cell_type": "code",
   "execution_count": null,
   "id": "8a4cc344",
   "metadata": {},
   "outputs": [],
   "source": [
    "# Predict whether or not the new people survive\n",
    "new_people = [new_person, new_person2]\n",
    "\n",
    "for person in new_people:    \n",
    "    print(\"--------------------------------------------\")\n",
    "    print(f\"Here are the predictions that our classifiers made for {person}\")\n",
    "    svm_predictions = svm_model.predict(person)\n",
    "    if svm_predictions == 0:\n",
    "        print(f\"Support vector machine: perish\")\n",
    "    else:\n",
    "        print(f\"Support vector machine: survive\")\n",
    "    \n",
    "    rf_predictions_1 = random_forest.predict(person)\n",
    "    if rf_predictions_1 == 0:\n",
    "        print(f\"Random forest: perish\")\n",
    "    else:\n",
    "        print(f\"Random forest: surive\")\n",
    "\n",
    "    lg_predictions = logreg_classifier.predict(person)\n",
    "    if lg_predictions == 0:\n",
    "        print(f\"Logistic regression: surive\")\n",
    "    else:\n",
    "        print(f\"Logistic regression: surive\")\n",
    "    \n",
    "    knn_predictions = knn_classifier.predict(person)\n",
    "    if knn_predictions == 0:\n",
    "        print(f\"K-nearest neighbors: surive\")\n",
    "    else:\n",
    "        print(f\"K-nearest neighbors: surive\")\n",
    "    \n",
    "    dt_predictions = decision_tree_classifier.predict(person)\n",
    "    if dt_predictions == 0:\n",
    "        print(f\"Decision tree: surive\")\n",
    "    else:\n",
    "        print(f\"Decision tree: surive\")"
   ]
  },
  {
   "cell_type": "code",
   "execution_count": null,
   "id": "73c0091b",
   "metadata": {},
   "outputs": [],
   "source": [
    "# Nicole's prediction\n",
    "Pclass = 2\n",
    "Age = 30\n",
    "SibSp =  1\n",
    "Parch = 1\n",
    "Fare = 100\n",
    "Sex_female = 1\n",
    "Sex_male = 0\n",
    "\n",
    "nicole = {'name': 'Nicole', \n",
    "          'data': [Pclass, Age, SibSp, Parch, Fare, Sex_female, Sex_male]}"
   ]
  },
  {
   "cell_type": "code",
   "execution_count": null,
   "id": "f987d386",
   "metadata": {},
   "outputs": [],
   "source": [
    "nicole['name']"
   ]
  },
  {
   "cell_type": "code",
   "execution_count": null,
   "id": "de6d6652",
   "metadata": {},
   "outputs": [],
   "source": [
    "# Anne's prediction\n",
    "Pclass = 2 \n",
    "Age = 48\n",
    "SibSp = 0 \n",
    "Parch = 2\n",
    "Fare = 100\n",
    "Sex_female = 1\n",
    "Sex_male = 0\n",
    "\n",
    "anne = {'name': 'Anne', \n",
    "        'data': [Pclass, Age, SibSp, Parch, Fare, Sex_female, Sex_male]}"
   ]
  },
  {
   "cell_type": "code",
   "execution_count": null,
   "id": "509083a3",
   "metadata": {},
   "outputs": [],
   "source": [
    "# Mariano's prediction\n",
    "Pclass = 2\n",
    "Age = 28\n",
    "SibSp = 1 \n",
    "Parch = 2\n",
    "Fare = 200\n",
    "Sex_female = 0\n",
    "Sex_male = 1\n",
    "\n",
    "mariano = {'name': 'Mariano', \n",
    "          'data': [Pclass, Age, SibSp, Parch, Fare, Sex_female, Sex_male]}"
   ]
  },
  {
   "cell_type": "code",
   "execution_count": null,
   "id": "d15a3775",
   "metadata": {},
   "outputs": [],
   "source": [
    "# Kendall's prediction"
   ]
  },
  {
   "cell_type": "code",
   "execution_count": null,
   "id": "d0d95e38",
   "metadata": {},
   "outputs": [],
   "source": [
    "# Matt's prediction\n",
    "Pclass = 2\n",
    "Age = 28\n",
    "SibSp = 2 \n",
    "Parch = 2\n",
    "Fare = 150\n",
    "Sex_female = 0\n",
    "Sex_male = 1\n",
    "\n",
    "matt = {'name': 'Matt', \n",
    "        'data': [Pclass, Age, SibSp, Parch, Fare, Sex_female, Sex_male]}"
   ]
  },
  {
   "cell_type": "code",
   "execution_count": null,
   "id": "8ac470bd",
   "metadata": {},
   "outputs": [],
   "source": [
    "# Rose\n",
    "Pclass = 1\n",
    "Age = 17\n",
    "SibSp = 1 \n",
    "Parch = 1\n",
    "Fare = 2250\n",
    "Sex_female = 1\n",
    "Sex_male = 0\n",
    "rose = {'name': 'Rose from The Titanic', \n",
    "        'data': [Pclass, Age, SibSp, Parch, Fare, Sex_female, Sex_male]}"
   ]
  },
  {
   "cell_type": "code",
   "execution_count": null,
   "id": "72673780",
   "metadata": {},
   "outputs": [],
   "source": [
    "# Jack\n",
    "Pclass = 3\n",
    "Age = 20\n",
    "SibSp = 0 \n",
    "Parch = 0\n",
    "Fare = 27.5\n",
    "Sex_female = 0\n",
    "Sex_male = 1\n",
    "jack = {'name': 'Jack from The Titanic', \n",
    "        'data': [Pclass, Age, SibSp, Parch, Fare, Sex_female, Sex_male]}"
   ]
  },
  {
   "cell_type": "code",
   "execution_count": null,
   "id": "eec3acb0",
   "metadata": {},
   "outputs": [],
   "source": [
    "# Make predictions with the logistic regression model\n",
    "people_to_predict = [nicole, anne, mariano, matt, rose, jack]\n",
    "people_to_predict\n",
    "\n",
    "for person in people_to_predict:\n",
    "    data = person['data']\n",
    "    name = person['name']\n",
    "    prediction = logreg_classifier.predict(np.array([data]))\n",
    "    print('--------------------------------------------------')\n",
    "    if prediction == 1:\n",
    "        print(f'Our model predicts {name}')\n",
    "        print(f'-- Passenger Class: {data[0]}')\n",
    "        print(f'-- Age: {data[1]}')\n",
    "        print(f'-- Number of siblings or spouses: {data[2]}')\n",
    "        print(f'-- Number of parents or children: {data[3]}')\n",
    "        print(f'-- Fare paid: {data[4]}') \n",
    "        if data[5] == 0:\n",
    "              print('-- Sex: Male')\n",
    "        else:\n",
    "              print('-- Sex: Female')\n",
    "        print('WOULD have survived the sinking of the titanic.')\n",
    "    else:\n",
    "        print(f'Our model predicts {name}')\n",
    "        print(f'-- Passenger Class: {data[0]}')\n",
    "        print(f'-- Age: {data[1]}')\n",
    "        print(f'-- Number of siblings or spouses: {data[2]}')\n",
    "        print(f'-- Number of parents or children: {data[3]}')\n",
    "        print(f'-- Fair paid: {data[4]}') \n",
    "        if data[5] == 0:\n",
    "              print('-- Sex: Male')\n",
    "        else:\n",
    "              print('-- Sex: Female')\n",
    "        print('WOULD NOT have survived the sinking of the titanic.')"
   ]
  },
  {
   "cell_type": "code",
   "execution_count": null,
   "id": "b38d776d",
   "metadata": {},
   "outputs": [],
   "source": []
  }
 ],
 "metadata": {
  "kernelspec": {
   "display_name": "Python 3",
   "language": "python",
   "name": "python3"
  },
  "language_info": {
   "codemirror_mode": {
    "name": "ipython",
    "version": 3
   },
   "file_extension": ".py",
   "mimetype": "text/x-python",
   "name": "python",
   "nbconvert_exporter": "python",
   "pygments_lexer": "ipython3",
   "version": "3.8.8"
  }
 },
 "nbformat": 4,
 "nbformat_minor": 5
}
