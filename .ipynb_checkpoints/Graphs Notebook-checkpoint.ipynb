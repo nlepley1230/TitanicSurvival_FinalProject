{
 "cells": [
  {
   "cell_type": "code",
   "execution_count": null,
   "id": "f722077c",
   "metadata": {},
   "outputs": [],
   "source": [
    "import pandas as pd\n",
    "import numpy as np\n",
    "import matplotlib.pyplot as plt"
   ]
  },
  {
   "cell_type": "code",
   "execution_count": null,
   "id": "013190a6",
   "metadata": {},
   "outputs": [],
   "source": [
    "gender_df = pd.read_csv(\"data/gender_submission.csv\")\n",
    "test_df = pd.read_csv(\"data/test.csv\")\n",
    "train_df = pd.read_csv(\"data/train.csv\")"
   ]
  },
  {
   "cell_type": "code",
   "execution_count": null,
   "id": "1b16e464",
   "metadata": {},
   "outputs": [],
   "source": [
    "test_merged_df = test_df.merge(gender_df, on='PassengerId')\n",
    "test_merged_df"
   ]
  },
  {
   "cell_type": "code",
   "execution_count": null,
   "id": "a2a3dbff",
   "metadata": {},
   "outputs": [],
   "source": [
    "test_merged_df = test_merged_df [[\"PassengerId\", \"Survived\", \"Pclass\" ,\"Name\", \"Sex\", \"Age\", \"SibSp\", \"Parch\", \"Ticket\", \"Fare\", \"Cabin\", \"Embarked\"]]\n",
    "test_merged_df.head()"
   ]
  },
  {
   "cell_type": "code",
   "execution_count": null,
   "id": "f68bde3b",
   "metadata": {},
   "outputs": [],
   "source": [
    "train_df.head()"
   ]
  },
  {
   "cell_type": "code",
   "execution_count": null,
   "id": "0d3c178a",
   "metadata": {},
   "outputs": [],
   "source": [
    "all_data_df = pd.concat([train_df, test_merged_df], ignore_index = True, sort = False)\n",
    "all_data_df"
   ]
  },
  {
   "cell_type": "code",
   "execution_count": null,
   "id": "e383810a",
   "metadata": {},
   "outputs": [],
   "source": [
    "# Passenger Class Survival Graphs"
   ]
  },
  {
   "cell_type": "code",
   "execution_count": null,
   "id": "d0d9d85d",
   "metadata": {},
   "outputs": [],
   "source": [
    "all_data_df[[\"Pclass\", \"Survived\"]].groupby([\"Pclass\"], as_index=False).mean().sort_values(by=\"Survived\", ascending=False)"
   ]
  },
  {
   "cell_type": "code",
   "execution_count": null,
   "id": "75aeefb0",
   "metadata": {},
   "outputs": [],
   "source": [
    "plt.figure(1)\n",
    "all_data_df.loc[all_data_df[\"Survived\"]==1, \"Pclass\"].value_counts().sort_index().plot.bar()\n",
    "plt.title(\"People who survive according to ticket class.\")"
   ]
  },
  {
   "cell_type": "code",
   "execution_count": null,
   "id": "782fd3ea",
   "metadata": {},
   "outputs": [],
   "source": [
    "plt.figure(2)\n",
    "all_data_df.loc[all_data_df[\"Survived\"]==0, \"Pclass\"].value_counts().sort_index().plot.bar()\n",
    "plt.title(\"People who didn't survive according to ticket class.\")"
   ]
  },
  {
   "cell_type": "code",
   "execution_count": null,
   "id": "85e307af",
   "metadata": {},
   "outputs": [],
   "source": [
    "# Age Survival Graphs"
   ]
  },
  {
   "cell_type": "code",
   "execution_count": null,
   "id": "8e419ef7",
   "metadata": {},
   "outputs": [],
   "source": [
    "plt.figure(3)\n",
    "age = all_data_df.loc[all_data_df.Survived == 1, \"Age\"]\n",
    "plt.hist(age, np.arange(0,100,10))\n",
    "plt.xticks(np.arange(0,100,10))\n",
    "plt.title(\"Histogram of people who survived by age groups\")"
   ]
  },
  {
   "cell_type": "code",
   "execution_count": null,
   "id": "9c617b88",
   "metadata": {},
   "outputs": [],
   "source": [
    "plt.figure(4)\n",
    "age = all_data_df.loc[all_data_df.Survived == 0, \"Age\"]\n",
    "plt.hist(age, np.arange(0,100,10))\n",
    "plt.xticks(np.arange(0,100,10))\n",
    "plt.title(\"Histogram of people who didn't survived by age groups\")"
   ]
  },
  {
   "cell_type": "code",
   "execution_count": null,
   "id": "9e5895f2",
   "metadata": {},
   "outputs": [],
   "source": [
    "# Embarked Survival Graph"
   ]
  },
  {
   "cell_type": "code",
   "execution_count": null,
   "id": "c3368ec2",
   "metadata": {},
   "outputs": [],
   "source": [
    "all_data_df[[\"Embarked\", \"Survived\"]].groupby([\"Embarked\"], as_index=False).mean().sort_values(by=\"Survived\", ascending=False)"
   ]
  },
  {
   "cell_type": "code",
   "execution_count": null,
   "id": "8539c2a6",
   "metadata": {},
   "outputs": [],
   "source": [
    "pie = plt.figure(5)\n",
    "ax = pie.add_axes([0,0,1,1])\n",
    "ax.axis(\"equal\")\n",
    "l=[\"C = Cherbourg\", \"Q = Queenstown\", \"S = Southampton\"]\n",
    "s=[0.553571, 0.389610, 0.336957]\n",
    "ax.pie(s, labels = l, autopct=\"%1.2f%%\")\n",
    "plt.show()"
   ]
  },
  {
   "cell_type": "code",
   "execution_count": null,
   "id": "524bc430",
   "metadata": {},
   "outputs": [],
   "source": []
  }
 ],
 "metadata": {
  "kernelspec": {
   "display_name": "Python 3",
   "language": "python",
   "name": "python3"
  },
  "language_info": {
   "codemirror_mode": {
    "name": "ipython",
    "version": 3
   },
   "file_extension": ".py",
   "mimetype": "text/x-python",
   "name": "python",
   "nbconvert_exporter": "python",
   "pygments_lexer": "ipython3",
   "version": "3.8.8"
  }
 },
 "nbformat": 4,
 "nbformat_minor": 5
}
